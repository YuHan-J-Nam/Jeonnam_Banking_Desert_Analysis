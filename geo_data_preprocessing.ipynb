{
 "cells": [
  {
   "cell_type": "markdown",
   "metadata": {},
   "source": [
    "# 데이터 전처리 과정\n",
    "### 사용 라이브러리"
   ]
  },
  {
   "cell_type": "code",
   "execution_count": 1,
   "metadata": {},
   "outputs": [],
   "source": [
    "import numpy as np\n",
    "import pandas as pd\n",
    "from datetime import datetime\n",
    "from tqdm import tqdm\n",
    "import time\n",
    "import re\n",
    "\n",
    "# 지리적 계산 라이브러리\n",
    "from geopy.distance import geodesic\n",
    "from haversine import haversine\n",
    "\n",
    "# HTTP 요청 및 API 라이브러리\n",
    "import requests\n",
    "import googlemaps\n",
    "\n",
    "# 멀티스레딩 및 병렬 처리 라이브러리\n",
    "import concurrent.futures\n",
    "from concurrent.futures import ThreadPoolExecutor, as_completed"
   ]
  },
  {
   "cell_type": "markdown",
   "metadata": {},
   "source": [
    "#### 사용 API KEY\n",
    "본인 API KEY를 입력하여 사용하시오"
   ]
  },
  {
   "cell_type": "code",
   "execution_count": 2,
   "metadata": {},
   "outputs": [],
   "source": [
    "GOOGLE_API_KEY = ''  # geocoding, direction api 사용\n",
    "KAKAO_API_KEY = ''  # 지오코딩의 경우 카카오 api를 우선적으로 사용하고 카카오 맵 api가 못하는 주소에 대해서 구글 geocoding api 사용"
   ]
  },
  {
   "cell_type": "markdown",
   "metadata": {},
   "source": [
    "# 1. 은행 데이터"
   ]
  },
  {
   "cell_type": "code",
   "execution_count": 2,
   "metadata": {},
   "outputs": [],
   "source": [
    "bank = pd.read_csv('codefilex.csv')  # 금융결제원 - 금융회사코드 조회\n",
    "bank['address'] = bank['주소'].apply(lambda x: x.replace(\"\\u3000\", \" \"))\n",
    "bank = bank[bank['address'].str.contains('전라남도')].iloc[:100] # iloc 지우기\n",
    "bank.reset_index(inplace=True, drop=True)"
   ]
  },
  {
   "cell_type": "code",
   "execution_count": 3,
   "metadata": {},
   "outputs": [
    {
     "data": {
      "text/html": [
       "<div>\n",
       "<style scoped>\n",
       "    .dataframe tbody tr th:only-of-type {\n",
       "        vertical-align: middle;\n",
       "    }\n",
       "\n",
       "    .dataframe tbody tr th {\n",
       "        vertical-align: top;\n",
       "    }\n",
       "\n",
       "    .dataframe thead th {\n",
       "        text-align: right;\n",
       "    }\n",
       "</style>\n",
       "<table border=\"1\" class=\"dataframe\">\n",
       "  <thead>\n",
       "    <tr style=\"text-align: right;\">\n",
       "      <th></th>\n",
       "      <th>은행코드</th>\n",
       "      <th>은행명</th>\n",
       "      <th>점포명</th>\n",
       "      <th>전화번호</th>\n",
       "      <th>팩스</th>\n",
       "      <th>우편번호</th>\n",
       "      <th>주소</th>\n",
       "      <th>구분</th>\n",
       "      <th>폐쇄관리지점</th>\n",
       "      <th>address</th>\n",
       "    </tr>\n",
       "  </thead>\n",
       "  <tbody>\n",
       "    <tr>\n",
       "      <th>0</th>\n",
       "      <td>14203</td>\n",
       "      <td>한국</td>\n",
       "      <td>목포　본부</td>\n",
       "      <td>061 241 1000</td>\n",
       "      <td>061 243 8066</td>\n",
       "      <td>58723</td>\n",
       "      <td>전라남도　목포시　영산로　１０９　　　　　　　　　　　　　　　　　　　　　　　　　　　　　　...</td>\n",
       "      <td>정상</td>\n",
       "      <td>NaN</td>\n",
       "      <td>전라남도 목포시 영산로 １０９                              ...</td>\n",
       "    </tr>\n",
       "    <tr>\n",
       "      <th>1</th>\n",
       "      <td>28202</td>\n",
       "      <td>산업</td>\n",
       "      <td>여수（지）</td>\n",
       "      <td>061 690 8500</td>\n",
       "      <td>061 682 0165</td>\n",
       "      <td>59677</td>\n",
       "      <td>전라남도　여수시　시청로　３０　　　　　　　　　　　　　　　　　　　　　　　　　　　　　　　...</td>\n",
       "      <td>정상</td>\n",
       "      <td>NaN</td>\n",
       "      <td>전라남도 여수시 시청로 ３０                               ...</td>\n",
       "    </tr>\n",
       "    <tr>\n",
       "      <th>2</th>\n",
       "      <td>28901</td>\n",
       "      <td>산업</td>\n",
       "      <td>목포（지）</td>\n",
       "      <td>061 280 5400</td>\n",
       "      <td>061 285 0353</td>\n",
       "      <td>58690</td>\n",
       "      <td>전라남도　목포시　백년대로　３０６　　　　　　　　　　　　　　　　　　　　　　　　　　　　　...</td>\n",
       "      <td>정상</td>\n",
       "      <td>NaN</td>\n",
       "      <td>전라남도 목포시 백년대로 ３０６                             ...</td>\n",
       "    </tr>\n",
       "    <tr>\n",
       "      <th>3</th>\n",
       "      <td>31914</td>\n",
       "      <td>기업</td>\n",
       "      <td>목포（지）</td>\n",
       "      <td>061 282 0202</td>\n",
       "      <td>0505075 0191</td>\n",
       "      <td>58688</td>\n",
       "      <td>전라남도　목포시　옥암로　２５　　　　　　　　　　　　　　　　　　　　　　　　　　　　　　　...</td>\n",
       "      <td>정상</td>\n",
       "      <td>NaN</td>\n",
       "      <td>전라남도 목포시 옥암로 ２５                               ...</td>\n",
       "    </tr>\n",
       "    <tr>\n",
       "      <th>4</th>\n",
       "      <td>31927</td>\n",
       "      <td>기업</td>\n",
       "      <td>순천（지）</td>\n",
       "      <td>061 07265061</td>\n",
       "      <td>0505075 0192</td>\n",
       "      <td>57967</td>\n",
       "      <td>전라남도　순천시　충효로　１５２　　　　　　　　　　　　　　　　　　　　　　　　　　　　　　...</td>\n",
       "      <td>정상</td>\n",
       "      <td>NaN</td>\n",
       "      <td>전라남도 순천시 충효로 １５２                              ...</td>\n",
       "    </tr>\n",
       "    <tr>\n",
       "      <th>...</th>\n",
       "      <td>...</td>\n",
       "      <td>...</td>\n",
       "      <td>...</td>\n",
       "      <td>...</td>\n",
       "      <td>...</td>\n",
       "      <td>...</td>\n",
       "      <td>...</td>\n",
       "      <td>...</td>\n",
       "      <td>...</td>\n",
       "      <td>...</td>\n",
       "    </tr>\n",
       "    <tr>\n",
       "      <th>95</th>\n",
       "      <td>91310</td>\n",
       "      <td>수협은행</td>\n",
       "      <td>목포수협채권관리실</td>\n",
       "      <td>061 240 0290</td>\n",
       "      <td>061 240 0219</td>\n",
       "      <td>58623</td>\n",
       "      <td>전라남도　목포시　청호로２１９번길　５０　（죽교동）　수협　　　　　　　　　　　　　　　　　...</td>\n",
       "      <td>정상</td>\n",
       "      <td>NaN</td>\n",
       "      <td>전라남도 목포시 청호로２１９번길 ５０ （죽교동） 수협                 ...</td>\n",
       "    </tr>\n",
       "    <tr>\n",
       "      <th>96</th>\n",
       "      <td>100298</td>\n",
       "      <td>ＮＨ농협은행</td>\n",
       "      <td>ａＴ본사</td>\n",
       "      <td>061 337 7101</td>\n",
       "      <td>061 337 7105</td>\n",
       "      <td>58217</td>\n",
       "      <td>전라남도　나주시　문화로　２２７　한국농수산식품유통공사１층　　　　　　　　　　　　　　　　...</td>\n",
       "      <td>정상</td>\n",
       "      <td>NaN</td>\n",
       "      <td>전라남도 나주시 문화로 ２２７ 한국농수산식품유통공사１층                ...</td>\n",
       "    </tr>\n",
       "    <tr>\n",
       "      <th>97</th>\n",
       "      <td>100696</td>\n",
       "      <td>ＮＨ농협은행</td>\n",
       "      <td>전남도청（출）</td>\n",
       "      <td>061 287 4700</td>\n",
       "      <td>061 287 4701</td>\n",
       "      <td>58564</td>\n",
       "      <td>전라남도　무안군　삼향읍　오룡길　１　　　　　　　　　　　　　　　　　　　　　　　　　　　　...</td>\n",
       "      <td>정상</td>\n",
       "      <td>NaN</td>\n",
       "      <td>전라남도 무안군 삼향읍 오룡길 １                            ...</td>\n",
       "    </tr>\n",
       "    <tr>\n",
       "      <th>98</th>\n",
       "      <td>101200</td>\n",
       "      <td>ＮＨ농협은행</td>\n",
       "      <td>여수센트럴</td>\n",
       "      <td>061 654 3101</td>\n",
       "      <td>061 654 3103</td>\n",
       "      <td>59708</td>\n",
       "      <td>전라남도　여수시　여서１로　５３　１층　　　　　　　　　　　　　　　　　　　　　　　　　　　...</td>\n",
       "      <td>정상</td>\n",
       "      <td>NaN</td>\n",
       "      <td>전라남도 여수시 여서１로 ５３ １층                           ...</td>\n",
       "    </tr>\n",
       "    <tr>\n",
       "      <th>99</th>\n",
       "      <td>101954</td>\n",
       "      <td>ＮＨ농협은행</td>\n",
       "      <td>광양만권경제자유구역청（출）</td>\n",
       "      <td>061 763 2708</td>\n",
       "      <td>061 762 2651</td>\n",
       "      <td>57741</td>\n",
       "      <td>전라남도　광양시　광양읍　인덕로　１１００　　　　　　　　　　　　　　　　　　　　　　　　　...</td>\n",
       "      <td>정상</td>\n",
       "      <td>NaN</td>\n",
       "      <td>전라남도 광양시 광양읍 인덕로 １１００                         ...</td>\n",
       "    </tr>\n",
       "  </tbody>\n",
       "</table>\n",
       "<p>100 rows × 10 columns</p>\n",
       "</div>"
      ],
      "text/plain": [
       "      은행코드         은행명              점포명          전화번호            팩스   우편번호  \\\n",
       "0    14203  한국　　　　　　　　  목포　본부　　　　　　　　　　  061 241 1000  061 243 8066  58723   \n",
       "1    28202  산업　　　　　　　　  여수（지）　　　　　　　　　　  061 690 8500  061 682 0165  59677   \n",
       "2    28901  산업　　　　　　　　  목포（지）　　　　　　　　　　  061 280 5400  061 285 0353  58690   \n",
       "3    31914  기업　　　　　　　　  목포（지）　　　　　　　　　　  061 282 0202  0505075 0191  58688   \n",
       "4    31927  기업　　　　　　　　  순천（지）　　　　　　　　　　  061 07265061  0505075 0192  57967   \n",
       "..     ...         ...              ...           ...           ...    ...   \n",
       "95   91310  수협은행　　　　　　  목포수협채권관리실　　　　　　  061 240 0290  061 240 0219  58623   \n",
       "96  100298  ＮＨ농협은행　　　　  ａＴ본사　　　　　　　　　　　  061 337 7101  061 337 7105  58217   \n",
       "97  100696  ＮＨ농협은행　　　　  전남도청（출）　　　　　　　　  061 287 4700  061 287 4701  58564   \n",
       "98  101200  ＮＨ농협은행　　　　  여수센트럴　　　　　　　　　　  061 654 3101  061 654 3103  59708   \n",
       "99  101954  ＮＨ농협은행　　　　  광양만권경제자유구역청（출）　  061 763 2708  061 762 2651  57741   \n",
       "\n",
       "                                                   주소  구분  폐쇄관리지점  \\\n",
       "0   전라남도　목포시　영산로　１０９　　　　　　　　　　　　　　　　　　　　　　　　　　　　　　...  정상     NaN   \n",
       "1   전라남도　여수시　시청로　３０　　　　　　　　　　　　　　　　　　　　　　　　　　　　　　　...  정상     NaN   \n",
       "2   전라남도　목포시　백년대로　３０６　　　　　　　　　　　　　　　　　　　　　　　　　　　　　...  정상     NaN   \n",
       "3   전라남도　목포시　옥암로　２５　　　　　　　　　　　　　　　　　　　　　　　　　　　　　　　...  정상     NaN   \n",
       "4   전라남도　순천시　충효로　１５２　　　　　　　　　　　　　　　　　　　　　　　　　　　　　　...  정상     NaN   \n",
       "..                                                ...  ..     ...   \n",
       "95  전라남도　목포시　청호로２１９번길　５０　（죽교동）　수협　　　　　　　　　　　　　　　　　...  정상     NaN   \n",
       "96  전라남도　나주시　문화로　２２７　한국농수산식품유통공사１층　　　　　　　　　　　　　　　　...  정상     NaN   \n",
       "97  전라남도　무안군　삼향읍　오룡길　１　　　　　　　　　　　　　　　　　　　　　　　　　　　　...  정상     NaN   \n",
       "98  전라남도　여수시　여서１로　５３　１층　　　　　　　　　　　　　　　　　　　　　　　　　　　...  정상     NaN   \n",
       "99  전라남도　광양시　광양읍　인덕로　１１００　　　　　　　　　　　　　　　　　　　　　　　　　...  정상     NaN   \n",
       "\n",
       "                                              address  \n",
       "0   전라남도 목포시 영산로 １０９                              ...  \n",
       "1   전라남도 여수시 시청로 ３０                               ...  \n",
       "2   전라남도 목포시 백년대로 ３０６                             ...  \n",
       "3   전라남도 목포시 옥암로 ２５                               ...  \n",
       "4   전라남도 순천시 충효로 １５２                              ...  \n",
       "..                                                ...  \n",
       "95  전라남도 목포시 청호로２１９번길 ５０ （죽교동） 수협                 ...  \n",
       "96  전라남도 나주시 문화로 ２２７ 한국농수산식품유통공사１층                ...  \n",
       "97  전라남도 무안군 삼향읍 오룡길 １                            ...  \n",
       "98  전라남도 여수시 여서１로 ５３ １층                           ...  \n",
       "99  전라남도 광양시 광양읍 인덕로 １１００                         ...  \n",
       "\n",
       "[100 rows x 10 columns]"
      ]
     },
     "execution_count": 3,
     "metadata": {},
     "output_type": "execute_result"
    }
   ],
   "source": [
    "bank"
   ]
  },
  {
   "cell_type": "code",
   "execution_count": 4,
   "metadata": {},
   "outputs": [],
   "source": [
    "def kakao_geocoding_single(query, api_key):\n",
    "    \"\"\"단일 주소에 대해 지오코딩 작업을 수행하는 함수\n",
    "    \"\"\"\n",
    "    try:\n",
    "        url = \"https://dapi.kakao.com/v2/local/search/address.json\"\n",
    "        headers = {\"Authorization\": f\"KakaoAK {api_key}\"}\n",
    "        params = {\"query\": query}\n",
    "\n",
    "        response = requests.get(url, headers=headers, params=params, timeout=10)\n",
    "        response.raise_for_status()\n",
    "        result = response.json()\n",
    "\n",
    "        if result['documents']:\n",
    "            longitude = result['documents'][0]['x']\n",
    "            latitude = result['documents'][0]['y']\n",
    "        else: # 검색 결과 없을 때 위경도 값 None으로 설정\n",
    "            longitude = None\n",
    "            latitude = None\n",
    "    except Exception as e:\n",
    "        print(f\"Error: {e}\")\n",
    "        longitude = None\n",
    "        latitude = None\n",
    "\n",
    "    return longitude, latitude\n",
    "\n",
    "def kakao_geocoding(house_df, api_key):\n",
    "    \"\"\"카카오 맵 api로 지오코딩 (멀티스레딩 버전)\n",
    "    \"\"\"\n",
    "    queries = house_df['address'].tolist()  # 주택 주소 목록\n",
    "    \n",
    "    with concurrent.futures.ThreadPoolExecutor() as executor:\n",
    "        # executor.map에서 반환되는 결과를 캡처하여 tqdm으로 진행 상황을 표시\n",
    "        results = list(tqdm(executor.map(lambda x: kakao_geocoding_single(x, api_key), queries), total=len(queries), desc=\"Geocoding\"))\n",
    "\n",
    "    # 결과를 사용하여 데이터프레임 업데이트\n",
    "    for index, (longitude, latitude) in zip(house_df.index, results):\n",
    "        house_df.at[index, 'longitude'] = longitude\n",
    "        house_df.at[index, 'latitude'] = latitude\n",
    "\n",
    "    return house_df\n",
    "\n",
    "# 구글 맵 api\n",
    "def address_to_coordinates(api_key, address):\n",
    "    # Google Maps 클라이언트 생성\n",
    "    gmaps = googlemaps.Client(key=api_key)\n",
    "    \n",
    "    # 주소를 좌표로 변환\n",
    "    geocode_result = gmaps.geocode(address)\n",
    "    \n",
    "    # 변환된 결과에서 좌표 추출\n",
    "    if geocode_result:\n",
    "        location = geocode_result[0]['geometry']['location']\n",
    "        latitude = location['lat']\n",
    "        longitude = location['lng']\n",
    "        return latitude, longitude\n",
    "    else:\n",
    "        return None, None"
   ]
  },
  {
   "cell_type": "code",
   "execution_count": 5,
   "metadata": {},
   "outputs": [
    {
     "name": "stderr",
     "output_type": "stream",
     "text": [
      "Geocoding: 100%|██████████| 100/100 [00:13<00:00,  7.68it/s]\n"
     ]
    }
   ],
   "source": [
    "bank_geo_kakao = kakao_geocoding(bank, KAKAO_API_KEY) # 카카오 api로 지오코딩"
   ]
  },
  {
   "cell_type": "code",
   "execution_count": 6,
   "metadata": {},
   "outputs": [
    {
     "name": "stderr",
     "output_type": "stream",
     "text": [
      "C:\\Users\\user\\AppData\\Local\\Temp\\ipykernel_6012\\4085765651.py:7: SettingWithCopyWarning: \n",
      "A value is trying to be set on a copy of a slice from a DataFrame.\n",
      "Try using .loc[row_indexer,col_indexer] = value instead\n",
      "\n",
      "See the caveats in the documentation: https://pandas.pydata.org/pandas-docs/stable/user_guide/indexing.html#returning-a-view-versus-a-copy\n",
      "  bank_geo_google['latitude'] = None\n",
      "C:\\Users\\user\\AppData\\Local\\Temp\\ipykernel_6012\\4085765651.py:8: SettingWithCopyWarning: \n",
      "A value is trying to be set on a copy of a slice from a DataFrame.\n",
      "Try using .loc[row_indexer,col_indexer] = value instead\n",
      "\n",
      "See the caveats in the documentation: https://pandas.pydata.org/pandas-docs/stable/user_guide/indexing.html#returning-a-view-versus-a-copy\n",
      "  bank_geo_google['longitude'] = None\n",
      "100%|██████████| 1/1 [00:01<00:00,  1.11s/it]\n"
     ]
    }
   ],
   "source": [
    "# 구글 맵 api 지오코딩\n",
    "bank_geo_google = bank_geo_kakao[bank_geo_kakao['latitude'].isna()] # 카카오맵 api로 지오코딩 안된 주소에 한해서 구글 맵 api로 지오코딩 수행\n",
    "bank_geo_kakao = bank_geo_kakao[~bank_geo_kakao['latitude'].isna()] # 카카오맵 api 지오코딩 안된 주소 제거\n",
    "bank_geo_google.reset_index(inplace=True, drop=True)\n",
    "\n",
    "# 새로운 열을 생성하여 좌표를 저장할 예정\n",
    "bank_geo_google['latitude'] = None\n",
    "bank_geo_google['longitude'] = None\n",
    "\n",
    "# 각 주소에 대해 구글 맵스 API를 적용하여 좌표를 찾고 DataFrame에 추가\n",
    "for index, row in tqdm(bank_geo_google.iterrows(), total=len(bank_geo_google)):\n",
    "    address = row['address']\n",
    "    latitude, longitude = address_to_coordinates(GOOGLE_API_KEY, address)\n",
    "    bank_geo_google.at[index, 'latitude'] = latitude\n",
    "    bank_geo_google.at[index, 'longitude'] = longitude"
   ]
  },
  {
   "cell_type": "code",
   "execution_count": 7,
   "metadata": {},
   "outputs": [],
   "source": [
    "# 카카오 api 지오코딩 + 구글 api 지오코딩\n",
    "bank_df = pd.concat([bank_geo_kakao, bank_geo_google])\n",
    "bank_df.dropna(inplace=True, subset='latitude') #주소 지오코딩이 안되는 경우 제거\n",
    "bank_df = bank_df[bank_df['폐쇄관리지점'].isna()] # 폐쇄 지점 제거\n",
    "bank_df.reset_index(inplace=True, drop=True)\n",
    "\n",
    "# latitude와 longitude 열을 float로 변환\n",
    "bank_df['latitude'] = bank_df['latitude'].astype(float)\n",
    "bank_df['longitude'] = bank_df['longitude'].astype(float)\n",
    "\n",
    "# 한국 영토의 위경도 범위 설정\n",
    "min_latitude = 33\n",
    "max_latitude = 38\n",
    "min_longitude = 124\n",
    "max_longitude = 132\n",
    "\n",
    "# 위경도 범위를 벗어나는 행 제거(한국 외의 외국 은행 제거)\n",
    "bank_df_ko = bank_df[(bank_df['latitude'] >= min_latitude) & (bank_df['latitude'] <= max_latitude) &\n",
    "        (bank_df['longitude'] >= min_longitude) & (bank_df['longitude'] <= max_longitude)]\n",
    "\n",
    "bank_df_ko.to_csv('bank_전남.csv',encoding='cp949')"
   ]
  },
  {
   "cell_type": "markdown",
   "metadata": {},
   "source": [
    "# 2. 주택"
   ]
  },
  {
   "cell_type": "code",
   "execution_count": 8,
   "metadata": {},
   "outputs": [
    {
     "name": "stderr",
     "output_type": "stream",
     "text": [
      "C:\\Users\\user\\AppData\\Local\\Temp\\ipykernel_6012\\1197982495.py:2: DtypeWarning: Columns (0,6) have mixed types. Specify dtype option on import or set low_memory=False.\n",
      "  single_jeonnam = pd.read_csv('개별주택가격정보_전라남도_20240125.csv',encoding='cp949')\n",
      "C:\\Users\\user\\AppData\\Local\\Temp\\ipykernel_6012\\1197982495.py:8: DtypeWarning: Columns (11,15) have mixed types. Specify dtype option on import or set low_memory=False.\n",
      "  public_jeonnam = pd.read_csv('공동주택가격정보_전라남도_20240125.csv',encoding='cp949')\n"
     ]
    }
   ],
   "source": [
    "# 개별 주택 가격 정보\n",
    "single_jeonnam = pd.read_csv('개별주택가격정보_전라남도_20240125.csv',encoding='cp949')\n",
    "single_df = single_jeonnam[['법정동코드', '법정동명', '특수지구분명', '지번']].iloc[:50].copy() # head 지우기\n",
    "single_df_m = single_jeonnam[['법정동코드', '법정동명', '특수지구분명', '지번']].iloc[394028:394032] # 산 제대로 들어가는지만 확인\n",
    "single_final = pd.concat([single_df, single_df_m])\n",
    "\n",
    "# 공동 주택 가격 정보\n",
    "public_jeonnam = pd.read_csv('공동주택가격정보_전라남도_20240125.csv',encoding='cp949')\n",
    "public_df = public_jeonnam[['법정동코드', '법정동명', '특수지구분명', '지번', '공동주택구분명']].iloc[:50].copy() #head 지우기\n",
    "\n",
    "jeonnam_house = pd.concat([public_df, single_final])"
   ]
  },
  {
   "cell_type": "code",
   "execution_count": 9,
   "metadata": {},
   "outputs": [],
   "source": [
    "def clean_address(row):\n",
    "    \"\"\" 각 집에 대해서 전부 지오코딩을 수행하면 너무 많아서 같은 지번으로 묶는 작업\n",
    "    ex) 전라남도 나주시 다시면 월태리 195-2 -> 전라남도 나주시 다시면 월태리 195\n",
    "    \"\"\"\n",
    "    if pd.isnull(row['지번']):\n",
    "        return row['법정동명']\n",
    "    elif '-' in row['지번']:\n",
    "        # '-'가 있는 경우 '-' 앞의 값을 사용하여 'address_clean' 열 생성\n",
    "        return row['법정동명'] + ' ' + row['지번'].split('-')[0]\n",
    "    else:\n",
    "        return row['법정동명'] + ' ' + row['지번']"
   ]
  },
  {
   "cell_type": "code",
   "execution_count": 10,
   "metadata": {},
   "outputs": [
    {
     "name": "stderr",
     "output_type": "stream",
     "text": [
      "Geocoding: 100%|██████████| 12/12 [00:01<00:00,  7.82it/s]\n"
     ]
    }
   ],
   "source": [
    "# 주소 전처리\n",
    "jeonnam_house['address_clean'] = jeonnam_house.apply(clean_address, axis=1)\n",
    "jeonnam_house['address'] = jeonnam_house['법정동명']+' '+jeonnam_house['지번']\n",
    "\n",
    "jeonnam_house = jeonnam_house.drop_duplicates(subset='address_clean') #지번으로 중복제거\n",
    "jeonnam_house.reset_index(inplace=True, drop=True)\n",
    "jeonnam_house.fillna({'공동주택구분명':'개인주택'}, inplace=True)\n",
    "\n",
    "house_geo_kakao = kakao_geocoding(jeonnam_house, KAKAO_API_KEY) # 카카오 api로 지오코딩"
   ]
  },
  {
   "cell_type": "code",
   "execution_count": 11,
   "metadata": {},
   "outputs": [
    {
     "name": "stderr",
     "output_type": "stream",
     "text": [
      "0it [00:00, ?it/s]\n"
     ]
    }
   ],
   "source": [
    "# 산 지역이나 카카오맵 api가 지오코딩 하지 못한 주소에 대해서 구글 맵 api 적용\n",
    "house_geo_google = house_geo_kakao[house_geo_kakao['latitude'].isna()].copy() \n",
    "house_geo_google.reset_index(inplace=True, drop=True)\n",
    "\n",
    "# 새로운 열을 생성하여 좌표를 저장할 예정\n",
    "house_geo_google['latitude'] = None\n",
    "house_geo_google['longitude'] = None\n",
    "\n",
    "# 각 주소에 대해 구글 맵스 API를 적용하여 좌표를 찾고 DataFrame에 추가\n",
    "for index, row in tqdm(house_geo_google.iterrows(), total=len(house_geo_google)):\n",
    "    address = row['address_clean']\n",
    "    latitude, longitude = address_to_coordinates(GOOGLE_API_KEY, address)\n",
    "    house_geo_google.at[index, 'latitude'] = latitude\n",
    "    house_geo_google.at[index, 'longitude'] = longitude\n",
    "    \n",
    "# 카카오 api 지오코딩 + 구글 api 지오코딩 \n",
    "house_geo = house_geo_kakao[house_geo_kakao['latitude'].notna()] # 카카오 api로 지오코딩 된 주소\n",
    "house_geo_df = pd.concat([house_geo, house_geo_google], axis = 0) \n",
    "house_geo_df.reset_index(inplace=True, drop=True)\n",
    "\n",
    "house_geo_df.to_csv('./data/jeonnam_geo.csv', encoding='cp949', index=False)"
   ]
  },
  {
   "cell_type": "markdown",
   "metadata": {},
   "source": [
    "# 3. 거리 및 이동시간 측정\n",
    "\n"
   ]
  },
  {
   "cell_type": "code",
   "execution_count": 12,
   "metadata": {},
   "outputs": [],
   "source": [
    "bank_jeonnam = pd.read_csv('./data/bank_전남.csv',encoding='cp949')\n",
    "public_jeonnam = pd.read_csv('./data/jeonnam_geo.csv',encoding='cp949')"
   ]
  },
  {
   "cell_type": "code",
   "execution_count": 13,
   "metadata": {},
   "outputs": [
    {
     "name": "stderr",
     "output_type": "stream",
     "text": [
      "100%|██████████| 12/12 [00:00<00:00, 55.53it/s]\n"
     ]
    }
   ],
   "source": [
    "# 각 주택과 가장 가까운 은행 코드 구하기\n",
    "public_jeonnam['closeness'] = None\n",
    "public_jeonnam['distance'] = None\n",
    "\n",
    "for index, row in tqdm(public_jeonnam.iterrows(), total=len(public_jeonnam)):\n",
    "    target_latitude = row['latitude']\n",
    "    target_longitude = row['longitude']\n",
    "    \n",
    "    # 각 좌표와의 거리 계산\n",
    "    distances = []\n",
    "    for _, bank_row in bank_jeonnam.iterrows():\n",
    "        coordinates = (bank_row['latitude'], bank_row['longitude'])\n",
    "        distance = geodesic((target_latitude, target_longitude), coordinates).meters\n",
    "        distances.append(distance)\n",
    "\n",
    "    # 가장 가까운 좌표의 은행코드 값과 거리 가져오기\n",
    "    min_index = distances.index(min(distances))\n",
    "    closest_bank_code = bank_jeonnam.loc[min_index, '은행코드']\n",
    "    closest_distance = distances[min_index]\n",
    "    \n",
    "    public_jeonnam.at[index, 'closeness'] = closest_bank_code\n",
    "    public_jeonnam.at[index, 'distance'] = closest_distance"
   ]
  },
  {
   "cell_type": "code",
   "execution_count": 14,
   "metadata": {},
   "outputs": [],
   "source": [
    "def get_duration(gmaps, origin, destination, departure_time, index):\n",
    "    try:\n",
    "        directions = gmaps.directions(origin, destination, mode=\"transit\", departure_time=departure_time)\n",
    "        if directions:\n",
    "            duration = directions[0]['legs'][0]['duration']['text']\n",
    "            return index, duration\n",
    "        else:\n",
    "            return index, None\n",
    "    except Exception as e:\n",
    "        print(f\"Error for index {index}: {e}\")\n",
    "        return index, None\n",
    "\n",
    "def distance_measure(df, bank_df, api_key):\n",
    "    \"\"\"\n",
    "    주택 기준 가장 가까운 은행까지 걸리는 시간 측정\n",
    "    구글 맵 direction api 활용\n",
    "    교통수단으로 걸리는 시간 결과 반환\n",
    "    \n",
    "    너무 가까워서 교통수단이 필요없거나 길이 없는 경우 결과값 none\n",
    "    \n",
    "    출발시간: 2024-05-27(월) 오전 10시\n",
    "        구글 맵의 경우 현재 날짜 기준 1주 이전 날짜로 출발시간을 설정하면 반환하지 못함\n",
    "    \"\"\"\n",
    "\n",
    "    departure_time = datetime(2024, 5, 27, 10, 0, 0)\n",
    "\n",
    "    # Google Maps 클라이언트 생성\n",
    "    gmaps = googlemaps.Client(key=api_key)\n",
    "\n",
    "    # 결과를 저장할 리스트 초기화\n",
    "    durations = [None] * len(df)\n",
    "\n",
    "    # 요청 속도 제어를 위한 변수 초기화\n",
    "    max_requests_per_minute = 3000\n",
    "    max_requests_per_second = max_requests_per_minute / 60\n",
    "    request_interval = 1 / max_requests_per_second\n",
    "    request_count = 0\n",
    "    start_time = time.time()\n",
    "\n",
    "    # 멀티스레딩 사용\n",
    "    with ThreadPoolExecutor(max_workers=10) as executor:\n",
    "        future_to_index = {\n",
    "            executor.submit(\n",
    "                get_duration, \n",
    "                gmaps, \n",
    "                row['address'] if pd.notna(row['address']) else row['address_clean'], \n",
    "                (bank_df.loc[bank_df['은행코드'] == row['closeness'], 'latitude'].values[0],\n",
    "                 bank_df.loc[bank_df['은행코드'] == row['closeness'], 'longitude'].values[0]),\n",
    "                departure_time, \n",
    "                index\n",
    "            ): index for index, row in df.iterrows()\n",
    "        }\n",
    "\n",
    "        for future in tqdm(as_completed(future_to_index), total=len(df)):\n",
    "            index, duration = future.result()\n",
    "            durations[index] = duration\n",
    "\n",
    "            # 요청 속도 제어\n",
    "            request_count += 1\n",
    "            if request_count >= max_requests_per_second:\n",
    "                elapsed_time = time.time() - start_time\n",
    "                if elapsed_time < 1:\n",
    "                    time.sleep(1 - elapsed_time)\n",
    "                start_time = time.time()\n",
    "                request_count = 0\n",
    "\n",
    "    # DataFrame에 결과 추가\n",
    "    df['transit_duration'] = durations\n",
    "    return df"
   ]
  },
  {
   "cell_type": "code",
   "execution_count": 15,
   "metadata": {},
   "outputs": [
    {
     "name": "stderr",
     "output_type": "stream",
     "text": [
      "100%|██████████| 12/12 [00:02<00:00,  5.74it/s]\n"
     ]
    }
   ],
   "source": [
    "jeonnam_transition = distance_measure(public_jeonnam, bank_jeonnam, GOOGLE_API_KEY)"
   ]
  },
  {
   "cell_type": "code",
   "execution_count": 16,
   "metadata": {},
   "outputs": [],
   "source": [
    "def hour_to_mins(duration):\n",
    "    if not isinstance(duration, str):\n",
    "        return 0\n",
    "    \n",
    "    # ISO 8601 Duration pattern\n",
    "    pattern = re.compile(r'(?:(\\d+)\\s*hours?)?\\s*(?:(\\d+)\\s*mins?)?')\n",
    "    match = pattern.match(duration)\n",
    "    \n",
    "    if not match:\n",
    "        return 0\n",
    "    \n",
    "    hour = int(match.group(1) or 0)\n",
    "    mins = int(match.group(2) or 0)\n",
    "    \n",
    "    total_mins = hour * 60 + mins\n",
    "    \n",
    "    return total_mins\n",
    "\n",
    "# apply 함수로 열에 적용\n",
    "jeonnam_transition['total_mins'] = jeonnam_transition['transit_duration'].apply(hour_to_mins)"
   ]
  },
  {
   "cell_type": "code",
   "execution_count": null,
   "metadata": {},
   "outputs": [],
   "source": [
    "jeonnam_transition_notna = jeonnam_transition[jeonnam_transition['transit_duration'].notna()] # direction api로 추출되지 않는 주소가 있어서 제거"
   ]
  },
  {
   "cell_type": "code",
   "execution_count": 17,
   "metadata": {},
   "outputs": [],
   "source": [
    "jeonnam_transition_notna.to_csv('./data/jeonnam_transition.csv',encoding='cp949',index=False)"
   ]
  },
  {
   "cell_type": "markdown",
   "metadata": {},
   "source": [
    "# 4. 반경 내 은행 개수 구하기"
   ]
  },
  {
   "cell_type": "code",
   "execution_count": 18,
   "metadata": {},
   "outputs": [],
   "source": [
    "jeonnam_transition = pd.read_csv('./data/jeonnam_transition.csv',encoding='cp949')\n",
    "bank_jeonnam = pd.read_csv('./data/bank_전남.csv',encoding='cp949')"
   ]
  },
  {
   "cell_type": "code",
   "execution_count": 19,
   "metadata": {},
   "outputs": [
    {
     "name": "stderr",
     "output_type": "stream",
     "text": [
      "100%|██████████| 12/12 [00:00<00:00, 142.82it/s]\n"
     ]
    }
   ],
   "source": [
    "# 반경 범위 설정\n",
    "radius_ranges = [1, 1.5, 2, 2.5, 3, 5, 10]\n",
    "\n",
    "# 거리 범위에 따른 컬럼명 설정\n",
    "column_names = [f\"{radius}km_radius\" for radius in radius_ranges]\n",
    "\n",
    "# 각 컬럼을 0으로 초기화하여 sp에 추가\n",
    "for column_name in column_names:\n",
    "    jeonnam_transition[column_name] = 0\n",
    "\n",
    "# 각 출발지마다 반경 내 도착지 개수 계산하여 컬럼에 저장\n",
    "for index, row in tqdm(jeonnam_transition.iterrows(), total=len(jeonnam_transition)):\n",
    "    origin = (row['latitude'], row['longitude'])\n",
    "    \n",
    "    for index_bank, row_bank in bank_jeonnam.iterrows():\n",
    "        destination = (row_bank['latitude'], row_bank['longitude'])\n",
    "        distance_km = haversine(origin, destination, unit='km')\n",
    "        \n",
    "        # 반경 범위 내에 있는지 확인하여 해당 컬럼의 값을 증가\n",
    "        for radius, column_name in zip(radius_ranges, column_names):\n",
    "            if distance_km <= radius:\n",
    "                jeonnam_transition.at[index, column_name] += 1"
   ]
  },
  {
   "cell_type": "code",
   "execution_count": 21,
   "metadata": {},
   "outputs": [],
   "source": [
    "jeonnam_transition.to_csv('./data/jeonnam_transition.csv',encoding='cp949', index=False)"
   ]
  },
  {
   "cell_type": "markdown",
   "metadata": {},
   "source": [
    "# 5. 인구 데이터랑 합치기\n"
   ]
  },
  {
   "cell_type": "code",
   "execution_count": 24,
   "metadata": {},
   "outputs": [],
   "source": [
    "# 이전 데이터 불러오기\n",
    "jeonnam_transition = pd.read_csv('./data/jeonnam_transition.csv',encoding='cp949')"
   ]
  },
  {
   "cell_type": "code",
   "execution_count": 25,
   "metadata": {},
   "outputs": [],
   "source": [
    "# 필요한 컬럼만 추출\n",
    "jeonnam_transition = jeonnam_transition[['address', 'latitude', 'longitude', 'closeness', 'distance', 'total_mins', \n",
    "                                        '1km_radius', '1.5km_radius', '2km_radius', '2.5km_radius', '3km_radius', '5km_radius', '10km_radius']]"
   ]
  },
  {
   "cell_type": "code",
   "execution_count": 26,
   "metadata": {},
   "outputs": [],
   "source": [
    "# 전처리 완료한 전라남도 인구 데이터 불러오기\n",
    "df_pop = pd.read_csv('./data/jeonnam_pop.csv', encoding='cp949')"
   ]
  },
  {
   "cell_type": "code",
   "execution_count": 27,
   "metadata": {},
   "outputs": [],
   "source": [
    "# 인구데이터를 병합\n",
    "df_final = pd.merge(jeonnam_transition, df_pop, left_on='address', right_on='주소', how='inner')"
   ]
  },
  {
   "cell_type": "code",
   "execution_count": 29,
   "metadata": {},
   "outputs": [],
   "source": [
    "# 최종 데이터를 Parquet 파일로 저장\n",
    "df_final.to_parquet('./data/jeonnam_final.parquet', index=False)"
   ]
  }
 ],
 "metadata": {
  "kernelspec": {
   "display_name": "venv",
   "language": "python",
   "name": "python3"
  },
  "language_info": {
   "codemirror_mode": {
    "name": "ipython",
    "version": 3
   },
   "file_extension": ".py",
   "mimetype": "text/x-python",
   "name": "python",
   "nbconvert_exporter": "python",
   "pygments_lexer": "ipython3",
   "version": "3.11.7"
  }
 },
 "nbformat": 4,
 "nbformat_minor": 2
}
