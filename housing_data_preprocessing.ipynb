{
 "cells": [
  {
   "cell_type": "markdown",
   "metadata": {},
   "source": [
    "# 전라남도 개별/공동주택 + 인구데이터 전처리"
   ]
  },
  {
   "cell_type": "markdown",
   "metadata": {},
   "source": [
    "### 사용 라이브러리"
   ]
  },
  {
   "cell_type": "code",
   "execution_count": 1,
   "metadata": {},
   "outputs": [],
   "source": [
    "# 필요한 라이브러리 로드\n",
    "import numpy as np\n",
    "import pandas as pd\n",
    "pd.options.mode.chained_assignment = None\n",
    "import matplotlib.pyplot as plt\n",
    "import seaborn as sns"
   ]
  },
  {
   "cell_type": "markdown",
   "metadata": {},
   "source": [
    "## 개별/공동주택 데이터\n",
    "주택데이터에서 지번별 총 면적을 추출하여 인구 밀도를 어렴풋이나마 계산해주고자 하였다.\n",
    "\n",
    "사용된 데이터는 2024년 1월에 조회된 전라남도 내의 개별/공동주택 데이터이다."
   ]
  },
  {
   "cell_type": "code",
   "execution_count": 2,
   "metadata": {},
   "outputs": [],
   "source": [
    "# 필요한 컬럼만 추출\n",
    "shared_cols = ['고유번호', '법정동코드', '법정동명', '지번', '특수지구분코드', '특수지구분명', '전용면적']\n",
    "private_cols = ['고유번호', '법정동코드', '법정동명', '지번', '특수지구분코드', '특수지구분명', '건물산정연면적']\n",
    "\n",
    "# 전남 주택가격정보 데이터 불러오기\n",
    "raw_jeonnam_shared = pd.read_csv('./data/전남_공동주택가격정보.csv', encoding='cp949', low_memory=False, usecols=shared_cols)\n",
    "raw_jeonnam_private = pd.read_csv('./data/전남_개별주택가격정보.csv', encoding='cp949', low_memory=False, usecols=private_cols)"
   ]
  },
  {
   "cell_type": "markdown",
   "metadata": {},
   "source": [
    "### 주택 데이터 전처리 함수"
   ]
  },
  {
   "cell_type": "code",
   "execution_count": 3,
   "metadata": {},
   "outputs": [],
   "source": [
    "def process_housing_data(df):\n",
    "    \"\"\"데이터프레임의 '법정동명'과 '지번' 컬럼을 합쳐 '주소' 컬럼을 만들고, '지번별 연면적'을 계산하는 함수\"\"\"\n",
    "    \n",
    "    # \"지번\" 컬럼에서 -를 기준으로 분리\n",
    "    df['지번본번'] = df['지번'].str.split('-').str[0]\n",
    "    \n",
    "    # 법정동명과 지번을 합친 \"주소\" 컬럼을 만들어 반환\n",
    "    df['주소'] = df['법정동명'] + ' ' + df['지번']\n",
    "    \n",
    "    # 지번별 총 연면적을 계산\n",
    "    try:\n",
    "        df['지번별 연면적'] = df.groupby(['주소'])['전용면적'].transform('sum')\n",
    "        df = df.drop('전용면적', axis=1)\n",
    "    except:\n",
    "        df['지번별 연면적'] = df.groupby(['주소'])['건물산정연면적'].transform('sum')\n",
    "        df = df.drop('건물산정연면적', axis=1)\n",
    "    \n",
    "    # 주소가 중복되는 행을 제거\n",
    "    df = df.drop_duplicates(['주소'])\n",
    "    \n",
    "    # NaN 값이 있는 행을 제거\n",
    "    df = df.dropna()\n",
    "    \n",
    "    return df"
   ]
  },
  {
   "cell_type": "code",
   "execution_count": 4,
   "metadata": {},
   "outputs": [],
   "source": [
    "# 데이터 프레임 정리\n",
    "df_housing_private = process_housing_data(raw_jeonnam_private)\n",
    "df_housing_shared = process_housing_data(raw_jeonnam_shared)"
   ]
  },
  {
   "cell_type": "code",
   "execution_count": 5,
   "metadata": {},
   "outputs": [
    {
     "data": {
      "image/png": "[encoded data removed]",
      "text/plain": [
       "<Figure size 1000x500 with 1 Axes>"
      ]
     },
     "metadata": {},
     "output_type": "display_data"
    }
   ],
   "source": [
    "# 지번본번별 연면적 시각화, 분포 그래프로 확인\n",
    "plt.figure(figsize=(10, 5))\n",
    "plt.hist(df_housing_private['지번별 연면적'].apply(lambda x: np.log(x+1)), bins=1000, density=True, alpha=0.5, label='private')\n",
    "plt.hist(df_housing_shared['지번별 연면적'].apply(lambda x: np.log(x+1)), bins=1000, density=True, alpha=0.5, label='shared')\n",
    "plt.grid(True)\n",
    "plt.xlabel('log(area per address $(m^2)$)')\n",
    "plt.ylabel('Density')\n",
    "plt.legend()\n",
    "plt.show()"
   ]
  },
  {
   "cell_type": "code",
   "execution_count": 6,
   "metadata": {},
   "outputs": [],
   "source": [
    "# 전남 개별주택과 공동주택 데이터를 주소 컬럼을 기준으로 병합\n",
    "df_housing = pd.merge(df_housing_private, df_housing_shared[['주소', '지번별 연면적']], \n",
    "                      on='주소', how='inner', suffixes=('_private', '_shared'))\n",
    "\n",
    "# 총 지번별 연면적 계산\n",
    "df_housing['지번별 연면적'] = df_housing['지번별 연면적_private'] + df_housing['지번별 연면적_shared']\n",
    "df_housing.drop(['지번별 연면적_private', '지번별 연면적_shared'], axis=1, inplace=True)"
   ]
  },
  {
   "cell_type": "markdown",
   "metadata": {},
   "source": [
    "## 지번별 거주 인구수 추정\n",
    "한국 전체 기준 1인당 평균 주거 면적이 2020년 기준 33.9 $m^2$ 이다.\n",
    "\n",
    "지번 내의 총 면적을 33.9 $m^2$로 나누어 **지번별 추정 인구수**를 계산해 주도록 하겠다."
   ]
  },
  {
   "cell_type": "code",
   "execution_count": 7,
   "metadata": {},
   "outputs": [
    {
     "data": {
      "text/html": [
       "<div>\n",
       "<style scoped>\n",
       "    .dataframe tbody tr th:only-of-type {\n",
       "        vertical-align: middle;\n",
       "    }\n",
       "\n",
       "    .dataframe tbody tr th {\n",
       "        vertical-align: top;\n",
       "    }\n",
       "\n",
       "    .dataframe thead th {\n",
       "        text-align: right;\n",
       "    }\n",
       "</style>\n",
       "<table border=\"1\" class=\"dataframe\">\n",
       "  <thead>\n",
       "    <tr style=\"text-align: right;\">\n",
       "      <th></th>\n",
       "      <th>지번별 연면적</th>\n",
       "      <th>지번별 추정 인구수</th>\n",
       "    </tr>\n",
       "  </thead>\n",
       "  <tbody>\n",
       "    <tr>\n",
       "      <th>count</th>\n",
       "      <td>31.000000</td>\n",
       "      <td>31.000000</td>\n",
       "    </tr>\n",
       "    <tr>\n",
       "      <th>mean</th>\n",
       "      <td>4049.081935</td>\n",
       "      <td>119.441945</td>\n",
       "    </tr>\n",
       "    <tr>\n",
       "      <th>std</th>\n",
       "      <td>10253.242576</td>\n",
       "      <td>302.455533</td>\n",
       "    </tr>\n",
       "    <tr>\n",
       "      <th>min</th>\n",
       "      <td>307.230000</td>\n",
       "      <td>9.062832</td>\n",
       "    </tr>\n",
       "    <tr>\n",
       "      <th>25%</th>\n",
       "      <td>419.405000</td>\n",
       "      <td>12.371829</td>\n",
       "    </tr>\n",
       "    <tr>\n",
       "      <th>50%</th>\n",
       "      <td>1218.820000</td>\n",
       "      <td>35.953392</td>\n",
       "    </tr>\n",
       "    <tr>\n",
       "      <th>75%</th>\n",
       "      <td>3561.690000</td>\n",
       "      <td>105.064602</td>\n",
       "    </tr>\n",
       "    <tr>\n",
       "      <th>max</th>\n",
       "      <td>57038.950000</td>\n",
       "      <td>1682.564897</td>\n",
       "    </tr>\n",
       "  </tbody>\n",
       "</table>\n",
       "</div>"
      ],
      "text/plain": [
       "            지번별 연면적   지번별 추정 인구수\n",
       "count     31.000000    31.000000\n",
       "mean    4049.081935   119.441945\n",
       "std    10253.242576   302.455533\n",
       "min      307.230000     9.062832\n",
       "25%      419.405000    12.371829\n",
       "50%     1218.820000    35.953392\n",
       "75%     3561.690000   105.064602\n",
       "max    57038.950000  1682.564897"
      ]
     },
     "execution_count": 7,
     "metadata": {},
     "output_type": "execute_result"
    }
   ],
   "source": [
    "# 지번별 연면적을 1인당 평균 주거면적으로 나눔\n",
    "df_housing['지번별 추정 인구수'] = (df_housing['지번별 연면적'] / 33.9)\n",
    "df_housing[['지번별 연면적','지번별 추정 인구수']].describe()"
   ]
  },
  {
   "cell_type": "code",
   "execution_count": 8,
   "metadata": {},
   "outputs": [
    {
     "data": {
      "image/png": "[encoded data removed]",
      "text/plain": [
       "<Figure size 1000x500 with 1 Axes>"
      ]
     },
     "metadata": {},
     "output_type": "display_data"
    }
   ],
   "source": [
    "# 주소별 추정 인구수 분포를 log를 씌워 시각화\n",
    "plt.figure(figsize=(10, 5))\n",
    "df_housing['지번별 추정 인구수'].plot(kind='hist', bins=100, grid=True)\n",
    "plt.show()"
   ]
  },
  {
   "cell_type": "markdown",
   "metadata": {},
   "source": [
    "---"
   ]
  },
  {
   "cell_type": "markdown",
   "metadata": {},
   "source": [
    "## 전라남도 인구 데이터 전처리\n",
    "전라남도의 각 법정동 별 총인구수랑 70세이상 인구 비율을 추출해주겠습니다."
   ]
  },
  {
   "cell_type": "code",
   "execution_count": 9,
   "metadata": {},
   "outputs": [
    {
     "data": {
      "text/plain": [
       "Index(['법정동코드', '기준연월', '시도명', '시군구명', '읍면동명', '리명', '계', '남자', '여자', '0세남자',\n",
       "       ...\n",
       "       '101세여자', '102세여자', '103세여자', '104세여자', '105세여자', '106세여자', '107세여자',\n",
       "       '108세여자', '109세여자', '110세이상 여자'],\n",
       "      dtype='object', length=231)"
      ]
     },
     "execution_count": 9,
     "metadata": {},
     "output_type": "execute_result"
    }
   ],
   "source": [
    "# 총 읍면동 별 인구 데이터 불러오기\n",
    "raw_pop = pd.read_csv('./data/전국_202401_70세_이상_인구통계_법정동.csv', encoding='utf-8-sig')\n",
    "raw_pop.columns"
   ]
  },
  {
   "cell_type": "markdown",
   "metadata": {},
   "source": [
    "### 필요한 컬럼/행 추출"
   ]
  },
  {
   "cell_type": "code",
   "execution_count": 10,
   "metadata": {},
   "outputs": [],
   "source": [
    "# 전남 데이터만 추출\n",
    "raw_pop = raw_pop[raw_pop['시도명'].str.contains('전라남도')]\n",
    "\n",
    "# 70세 이상 남, 녀, 총 데이터만 추출\n",
    "raw_pop['70세이상 남자'] = raw_pop.loc[:,'70세남자':'110세이상 남자'].sum(axis=1)\n",
    "raw_pop['70세이상 여자'] = raw_pop.loc[:,'70세여자':'110세이상 여자'].sum(axis=1)\n",
    "raw_pop['70세이상 계'] = raw_pop['70세이상 남자'] + raw_pop['70세이상 여자']\n",
    "\n",
    "# 필요한 열들만 추출\n",
    "interested_columns = ['법정동코드', '시도명', '시군구명', '읍면동명', '리명', '계', '70세이상 계']\n",
    "\n",
    "# 전남 데이터프레임 생성\n",
    "df_pop = raw_pop[interested_columns]"
   ]
  },
  {
   "cell_type": "markdown",
   "metadata": {},
   "source": [
    "### 70세이상 인구비율 계산"
   ]
  },
  {
   "cell_type": "code",
   "execution_count": 11,
   "metadata": {},
   "outputs": [],
   "source": [
    "# 70세 이상 인구 비율 계산\n",
    "df_pop['70세이상 인구비율'] = df_pop['70세이상 계'] / df_pop['계'] * 100"
   ]
  },
  {
   "cell_type": "markdown",
   "metadata": {},
   "source": [
    "지금의 데이터는 읍면동-리 까지 구분이 되어있기 때문에, 동일한 기준 적용을 위해 읍면동까지만 구분된 인구 데이터도 계산해 준다."
   ]
  },
  {
   "cell_type": "code",
   "execution_count": 12,
   "metadata": {},
   "outputs": [],
   "source": [
    "# 읍면동 기준의 총인구 및 70세이상 인구 계산\n",
    "df_pop[['읍면동 총인구', '읍면동 70세이상 인구']] = df_pop.groupby(['시도명', '시군구명', '읍면동명'])[['계', '70세이상 계']].transform('sum')"
   ]
  },
  {
   "cell_type": "code",
   "execution_count": 13,
   "metadata": {},
   "outputs": [
    {
     "data": {
      "text/html": [
       "<div>\n",
       "<style scoped>\n",
       "    .dataframe tbody tr th:only-of-type {\n",
       "        vertical-align: middle;\n",
       "    }\n",
       "\n",
       "    .dataframe tbody tr th {\n",
       "        vertical-align: top;\n",
       "    }\n",
       "\n",
       "    .dataframe thead th {\n",
       "        text-align: right;\n",
       "    }\n",
       "</style>\n",
       "<table border=\"1\" class=\"dataframe\">\n",
       "  <thead>\n",
       "    <tr style=\"text-align: right;\">\n",
       "      <th></th>\n",
       "      <th>법정동코드</th>\n",
       "      <th>시도명</th>\n",
       "      <th>시군구명</th>\n",
       "      <th>읍면동명</th>\n",
       "      <th>리명</th>\n",
       "      <th>읍면동리 총인구</th>\n",
       "      <th>읍면동리 70세이상 인구</th>\n",
       "      <th>읍면동리 70세이상 인구비율</th>\n",
       "      <th>읍면동 총인구</th>\n",
       "      <th>읍면동 70세이상 인구</th>\n",
       "    </tr>\n",
       "  </thead>\n",
       "  <tbody>\n",
       "    <tr>\n",
       "      <th>7569</th>\n",
       "      <td>4611010100</td>\n",
       "      <td>전라남도</td>\n",
       "      <td>목포시</td>\n",
       "      <td>용당동</td>\n",
       "      <td>용당동</td>\n",
       "      <td>12477</td>\n",
       "      <td>3024</td>\n",
       "      <td>24.236595</td>\n",
       "      <td>12477</td>\n",
       "      <td>3024</td>\n",
       "    </tr>\n",
       "    <tr>\n",
       "      <th>7570</th>\n",
       "      <td>4611010200</td>\n",
       "      <td>전라남도</td>\n",
       "      <td>목포시</td>\n",
       "      <td>산정동</td>\n",
       "      <td>산정동</td>\n",
       "      <td>41280</td>\n",
       "      <td>7389</td>\n",
       "      <td>17.899709</td>\n",
       "      <td>41280</td>\n",
       "      <td>7389</td>\n",
       "    </tr>\n",
       "    <tr>\n",
       "      <th>7571</th>\n",
       "      <td>4611010300</td>\n",
       "      <td>전라남도</td>\n",
       "      <td>목포시</td>\n",
       "      <td>연산동</td>\n",
       "      <td>연산동</td>\n",
       "      <td>13039</td>\n",
       "      <td>1129</td>\n",
       "      <td>8.658639</td>\n",
       "      <td>13039</td>\n",
       "      <td>1129</td>\n",
       "    </tr>\n",
       "    <tr>\n",
       "      <th>7572</th>\n",
       "      <td>4611010400</td>\n",
       "      <td>전라남도</td>\n",
       "      <td>목포시</td>\n",
       "      <td>대성동</td>\n",
       "      <td>대성동</td>\n",
       "      <td>3899</td>\n",
       "      <td>525</td>\n",
       "      <td>13.464991</td>\n",
       "      <td>3899</td>\n",
       "      <td>525</td>\n",
       "    </tr>\n",
       "    <tr>\n",
       "      <th>7573</th>\n",
       "      <td>4611010500</td>\n",
       "      <td>전라남도</td>\n",
       "      <td>목포시</td>\n",
       "      <td>양동</td>\n",
       "      <td>양동</td>\n",
       "      <td>1318</td>\n",
       "      <td>365</td>\n",
       "      <td>27.693475</td>\n",
       "      <td>1318</td>\n",
       "      <td>365</td>\n",
       "    </tr>\n",
       "  </tbody>\n",
       "</table>\n",
       "</div>"
      ],
      "text/plain": [
       "           법정동코드   시도명 시군구명 읍면동명   리명  읍면동리 총인구  읍면동리 70세이상 인구  \\\n",
       "7569  4611010100  전라남도  목포시  용당동  용당동     12477           3024   \n",
       "7570  4611010200  전라남도  목포시  산정동  산정동     41280           7389   \n",
       "7571  4611010300  전라남도  목포시  연산동  연산동     13039           1129   \n",
       "7572  4611010400  전라남도  목포시  대성동  대성동      3899            525   \n",
       "7573  4611010500  전라남도  목포시   양동   양동      1318            365   \n",
       "\n",
       "       읍면동리 70세이상 인구비율  읍면동 총인구  읍면동 70세이상 인구  \n",
       "7569         24.236595    12477          3024  \n",
       "7570         17.899709    41280          7389  \n",
       "7571          8.658639    13039          1129  \n",
       "7572         13.464991     3899           525  \n",
       "7573         27.693475     1318           365  "
      ]
     },
     "execution_count": 13,
     "metadata": {},
     "output_type": "execute_result"
    }
   ],
   "source": [
    "# 컬럼명 변환\n",
    "df_pop.columns = ['법정동코드', '시도명', '시군구명', '읍면동명', '리명', \n",
    "                      '읍면동리 총인구', '읍면동리 70세이상 인구', ' 읍면동리 70세이상 인구비율',\n",
    "                      '읍면동 총인구', '읍면동 70세이상 인구']\n",
    "\n",
    "# 최종 데이터프레임 확인\n",
    "df_pop.head()"
   ]
  },
  {
   "cell_type": "markdown",
   "metadata": {},
   "source": [
    "---"
   ]
  },
  {
   "cell_type": "markdown",
   "metadata": {},
   "source": [
    "## 인구 + 지번별 면적/추정인구 데이터 병합"
   ]
  },
  {
   "cell_type": "code",
   "execution_count": 14,
   "metadata": {},
   "outputs": [
    {
     "data": {
      "text/html": [
       "<div>\n",
       "<style scoped>\n",
       "    .dataframe tbody tr th:only-of-type {\n",
       "        vertical-align: middle;\n",
       "    }\n",
       "\n",
       "    .dataframe tbody tr th {\n",
       "        vertical-align: top;\n",
       "    }\n",
       "\n",
       "    .dataframe thead th {\n",
       "        text-align: right;\n",
       "    }\n",
       "</style>\n",
       "<table border=\"1\" class=\"dataframe\">\n",
       "  <thead>\n",
       "    <tr style=\"text-align: right;\">\n",
       "      <th></th>\n",
       "      <th>고유번호</th>\n",
       "      <th>법정동코드</th>\n",
       "      <th>지번</th>\n",
       "      <th>주소</th>\n",
       "      <th>지번별 연면적</th>\n",
       "      <th>지번별 추정 인구수</th>\n",
       "      <th>시도명</th>\n",
       "      <th>시군구명</th>\n",
       "      <th>읍면동명</th>\n",
       "      <th>리명</th>\n",
       "      <th>읍면동리 총인구</th>\n",
       "      <th>읍면동리 70세이상 인구</th>\n",
       "      <th>읍면동리 70세이상 인구비율</th>\n",
       "      <th>읍면동 총인구</th>\n",
       "      <th>읍면동 70세이상 인구</th>\n",
       "    </tr>\n",
       "  </thead>\n",
       "  <tbody>\n",
       "    <tr>\n",
       "      <th>0</th>\n",
       "      <td>4611010200103260010</td>\n",
       "      <td>4611010200</td>\n",
       "      <td>326-10</td>\n",
       "      <td>전라남도 목포시 산정동 326-10</td>\n",
       "      <td>12805.50</td>\n",
       "      <td>377.743363</td>\n",
       "      <td>전라남도</td>\n",
       "      <td>목포시</td>\n",
       "      <td>산정동</td>\n",
       "      <td>산정동</td>\n",
       "      <td>41280</td>\n",
       "      <td>7389</td>\n",
       "      <td>17.899709</td>\n",
       "      <td>41280</td>\n",
       "      <td>7389</td>\n",
       "    </tr>\n",
       "    <tr>\n",
       "      <th>1</th>\n",
       "      <td>4611015900103670001</td>\n",
       "      <td>4611015900</td>\n",
       "      <td>367-1</td>\n",
       "      <td>전라남도 목포시 용해동 367-1</td>\n",
       "      <td>4279.20</td>\n",
       "      <td>126.230088</td>\n",
       "      <td>전라남도</td>\n",
       "      <td>목포시</td>\n",
       "      <td>용해동</td>\n",
       "      <td>용해동</td>\n",
       "      <td>26681</td>\n",
       "      <td>3124</td>\n",
       "      <td>11.708707</td>\n",
       "      <td>26681</td>\n",
       "      <td>3124</td>\n",
       "    </tr>\n",
       "    <tr>\n",
       "      <th>2</th>\n",
       "      <td>4611015900109660007</td>\n",
       "      <td>4611015900</td>\n",
       "      <td>966-7</td>\n",
       "      <td>전라남도 목포시 용해동 966-7</td>\n",
       "      <td>4820.40</td>\n",
       "      <td>142.194690</td>\n",
       "      <td>전라남도</td>\n",
       "      <td>목포시</td>\n",
       "      <td>용해동</td>\n",
       "      <td>용해동</td>\n",
       "      <td>26681</td>\n",
       "      <td>3124</td>\n",
       "      <td>11.708707</td>\n",
       "      <td>26681</td>\n",
       "      <td>3124</td>\n",
       "    </tr>\n",
       "    <tr>\n",
       "      <th>3</th>\n",
       "      <td>4611016000107730001</td>\n",
       "      <td>4611016000</td>\n",
       "      <td>773-1</td>\n",
       "      <td>전라남도 목포시 석현동 773-1</td>\n",
       "      <td>1261.27</td>\n",
       "      <td>37.205605</td>\n",
       "      <td>전라남도</td>\n",
       "      <td>목포시</td>\n",
       "      <td>석현동</td>\n",
       "      <td>석현동</td>\n",
       "      <td>18620</td>\n",
       "      <td>1363</td>\n",
       "      <td>7.320086</td>\n",
       "      <td>18620</td>\n",
       "      <td>1363</td>\n",
       "    </tr>\n",
       "    <tr>\n",
       "      <th>4</th>\n",
       "      <td>4613012000100040001</td>\n",
       "      <td>4613012000</td>\n",
       "      <td>4-1</td>\n",
       "      <td>전라남도 여수시 문수동 4-1</td>\n",
       "      <td>1648.80</td>\n",
       "      <td>48.637168</td>\n",
       "      <td>전라남도</td>\n",
       "      <td>여수시</td>\n",
       "      <td>문수동</td>\n",
       "      <td>문수동</td>\n",
       "      <td>19241</td>\n",
       "      <td>2490</td>\n",
       "      <td>12.941115</td>\n",
       "      <td>19241</td>\n",
       "      <td>2490</td>\n",
       "    </tr>\n",
       "  </tbody>\n",
       "</table>\n",
       "</div>"
      ],
      "text/plain": [
       "                  고유번호       법정동코드      지번                   주소   지번별 연면적  \\\n",
       "0  4611010200103260010  4611010200  326-10  전라남도 목포시 산정동 326-10  12805.50   \n",
       "1  4611015900103670001  4611015900   367-1   전라남도 목포시 용해동 367-1   4279.20   \n",
       "2  4611015900109660007  4611015900   966-7   전라남도 목포시 용해동 966-7   4820.40   \n",
       "3  4611016000107730001  4611016000   773-1   전라남도 목포시 석현동 773-1   1261.27   \n",
       "4  4613012000100040001  4613012000     4-1     전라남도 여수시 문수동 4-1   1648.80   \n",
       "\n",
       "   지번별 추정 인구수   시도명 시군구명 읍면동명   리명  읍면동리 총인구  읍면동리 70세이상 인구   읍면동리 70세이상 인구비율  \\\n",
       "0  377.743363  전라남도  목포시  산정동  산정동     41280           7389         17.899709   \n",
       "1  126.230088  전라남도  목포시  용해동  용해동     26681           3124         11.708707   \n",
       "2  142.194690  전라남도  목포시  용해동  용해동     26681           3124         11.708707   \n",
       "3   37.205605  전라남도  목포시  석현동  석현동     18620           1363          7.320086   \n",
       "4   48.637168  전라남도  여수시  문수동  문수동     19241           2490         12.941115   \n",
       "\n",
       "   읍면동 총인구  읍면동 70세이상 인구  \n",
       "0    41280          7389  \n",
       "1    26681          3124  \n",
       "2    26681          3124  \n",
       "3    18620          1363  \n",
       "4    19241          2490  "
      ]
     },
     "execution_count": 14,
     "metadata": {},
     "output_type": "execute_result"
    }
   ],
   "source": [
    "# 법정동코드를 기준으로 데이터를 병합\n",
    "df_final = pd.merge(df_housing.drop(['법정동명', '지번본번', '특수지구분코드', '특수지구분명'], axis=1),\n",
    "                    df_pop, on='법정동코드', how='left')\n",
    "df_final.head()"
   ]
  },
  {
   "cell_type": "code",
   "execution_count": 17,
   "metadata": {},
   "outputs": [],
   "source": [
    "# 예측 값이랑 실제 값이랑 비교\n",
    "df_final['읍면동리별 추정 인구수'] = df_final.groupby(['법정동코드'])['지번별 추정 인구수'].transform('sum')"
   ]
  },
  {
   "cell_type": "code",
   "execution_count": 19,
   "metadata": {},
   "outputs": [
    {
     "data": {
      "image/png": "[encoded data removed]",
      "text/plain": [
       "<Figure size 600x600 with 1 Axes>"
      ]
     },
     "metadata": {},
     "output_type": "display_data"
    }
   ],
   "source": [
    "# 법정동 별 추정 인구수와 법정동 총 인구를 시각화하여 비교\n",
    "plt.figure(figsize=(6, 6))\n",
    "plt.scatter(df_final['읍면동리별 추정 인구수'], df_final['읍면동리 총인구'])\n",
    "\n",
    "# y=x 그래프 추가\n",
    "plt.plot([0, 50000], [0, 50000], 'r')\n",
    "\n",
    "plt.grid(True)\n",
    "plt.title('Comparing estimated population with reported population')\n",
    "plt.xlabel('Estimated population')\n",
    "plt.ylabel('Reported population')\n",
    "plt.show()"
   ]
  },
  {
   "cell_type": "markdown",
   "metadata": {},
   "source": [
    "주택 면적으로 통해 예측한 추정 인구수가 실제 법정동 총 인구수와 비슷하게 나타나는 것을 확인할 수 있습니다.\n",
    "\n",
    "이는 주택 면적을 인구 밀집도의 지표로 쓸 수 있다는 것을 보여줍니다."
   ]
  },
  {
   "cell_type": "markdown",
   "metadata": {},
   "source": [
    "이렇게 개별+공동주택 데이터를 가져와 해당 주소별 연면적을 계산하고, 이 정보가 해당 지역의 인구 밀집도랑 상관계수가 높은 수치인 것을 보여주었습니다."
   ]
  },
  {
   "cell_type": "code",
   "execution_count": 22,
   "metadata": {},
   "outputs": [],
   "source": [
    "df_final.drop('읍면동리별 추정 인구수', axis=1).to_csv('jeonnam_housing_pop.csv', encoding='cp949', index=False)"
   ]
  },
  {
   "cell_type": "code",
   "execution_count": 23,
   "metadata": {},
   "outputs": [
    {
     "data": {
      "text/html": [
       "<div>\n",
       "<style scoped>\n",
       "    .dataframe tbody tr th:only-of-type {\n",
       "        vertical-align: middle;\n",
       "    }\n",
       "\n",
       "    .dataframe tbody tr th {\n",
       "        vertical-align: top;\n",
       "    }\n",
       "\n",
       "    .dataframe thead th {\n",
       "        text-align: right;\n",
       "    }\n",
       "</style>\n",
       "<table border=\"1\" class=\"dataframe\">\n",
       "  <thead>\n",
       "    <tr style=\"text-align: right;\">\n",
       "      <th></th>\n",
       "      <th>법정동코드</th>\n",
       "      <th>특수지구분코드</th>\n",
       "      <th>지번별 연면적 합</th>\n",
       "      <th>지번별 추정 인구수</th>\n",
       "      <th>읍면동리 총 인구수</th>\n",
       "      <th>읍면동리 70세이상 인구수</th>\n",
       "      <th>읍면동리 70세이상 인구비율</th>\n",
       "      <th>읍면동 총 인구수</th>\n",
       "      <th>읍면동 총 70세이상 인구수</th>\n",
       "      <th>읍면동 70세이상 인구비율</th>\n",
       "      <th>읍면동리별 추정 인구수</th>\n",
       "    </tr>\n",
       "  </thead>\n",
       "  <tbody>\n",
       "    <tr>\n",
       "      <th>count</th>\n",
       "      <td>3.888370e+05</td>\n",
       "      <td>388837.000000</td>\n",
       "      <td>388837.000000</td>\n",
       "      <td>388837.000000</td>\n",
       "      <td>388837.000000</td>\n",
       "      <td>388837.000000</td>\n",
       "      <td>388837.000000</td>\n",
       "      <td>388837.000000</td>\n",
       "      <td>388837.000000</td>\n",
       "      <td>388837.000000</td>\n",
       "      <td>388837.000000</td>\n",
       "    </tr>\n",
       "    <tr>\n",
       "      <th>mean</th>\n",
       "      <td>4.660198e+09</td>\n",
       "      <td>1.008518</td>\n",
       "      <td>176.000111</td>\n",
       "      <td>5.191744</td>\n",
       "      <td>2898.362520</td>\n",
       "      <td>448.315533</td>\n",
       "      <td>30.119516</td>\n",
       "      <td>7813.648339</td>\n",
       "      <td>1480.379143</td>\n",
       "      <td>28.299795</td>\n",
       "      <td>3075.540090</td>\n",
       "    </tr>\n",
       "    <tr>\n",
       "      <th>std</th>\n",
       "      <td>3.159996e+07</td>\n",
       "      <td>0.092177</td>\n",
       "      <td>1880.319316</td>\n",
       "      <td>55.466646</td>\n",
       "      <td>7766.644224</td>\n",
       "      <td>1089.862453</td>\n",
       "      <td>10.305730</td>\n",
       "      <td>10645.057624</td>\n",
       "      <td>1261.766378</td>\n",
       "      <td>9.597160</td>\n",
       "      <td>7980.121229</td>\n",
       "    </tr>\n",
       "    <tr>\n",
       "      <th>min</th>\n",
       "      <td>4.611010e+09</td>\n",
       "      <td>1.000000</td>\n",
       "      <td>0.000000</td>\n",
       "      <td>0.000000</td>\n",
       "      <td>3.000000</td>\n",
       "      <td>0.000000</td>\n",
       "      <td>0.000000</td>\n",
       "      <td>4.000000</td>\n",
       "      <td>0.000000</td>\n",
       "      <td>0.000000</td>\n",
       "      <td>1.368732</td>\n",
       "    </tr>\n",
       "    <tr>\n",
       "      <th>25%</th>\n",
       "      <td>4.617032e+09</td>\n",
       "      <td>1.000000</td>\n",
       "      <td>66.000000</td>\n",
       "      <td>1.946903</td>\n",
       "      <td>216.000000</td>\n",
       "      <td>76.000000</td>\n",
       "      <td>24.050046</td>\n",
       "      <td>2300.000000</td>\n",
       "      <td>775.000000</td>\n",
       "      <td>21.037806</td>\n",
       "      <td>316.084661</td>\n",
       "    </tr>\n",
       "    <tr>\n",
       "      <th>50%</th>\n",
       "      <td>4.678025e+09</td>\n",
       "      <td>1.000000</td>\n",
       "      <td>89.340000</td>\n",
       "      <td>2.635398</td>\n",
       "      <td>370.000000</td>\n",
       "      <td>123.000000</td>\n",
       "      <td>31.531532</td>\n",
       "      <td>3382.000000</td>\n",
       "      <td>1069.000000</td>\n",
       "      <td>30.788006</td>\n",
       "      <td>525.171091</td>\n",
       "    </tr>\n",
       "    <tr>\n",
       "      <th>75%</th>\n",
       "      <td>4.684025e+09</td>\n",
       "      <td>1.000000</td>\n",
       "      <td>119.260000</td>\n",
       "      <td>3.517994</td>\n",
       "      <td>1017.000000</td>\n",
       "      <td>266.000000</td>\n",
       "      <td>37.267081</td>\n",
       "      <td>8527.000000</td>\n",
       "      <td>1773.000000</td>\n",
       "      <td>35.543657</td>\n",
       "      <td>1157.435398</td>\n",
       "    </tr>\n",
       "    <tr>\n",
       "      <th>max</th>\n",
       "      <td>4.691042e+09</td>\n",
       "      <td>6.000000</td>\n",
       "      <td>226185.570000</td>\n",
       "      <td>6672.140708</td>\n",
       "      <td>48540.000000</td>\n",
       "      <td>7389.000000</td>\n",
       "      <td>66.666667</td>\n",
       "      <td>56142.000000</td>\n",
       "      <td>7389.000000</td>\n",
       "      <td>49.090909</td>\n",
       "      <td>47667.700590</td>\n",
       "    </tr>\n",
       "  </tbody>\n",
       "</table>\n",
       "</div>"
      ],
      "text/plain": [
       "              법정동코드        특수지구분코드      지번별 연면적 합     지번별 추정 인구수  \\\n",
       "count  3.888370e+05  388837.000000  388837.000000  388837.000000   \n",
       "mean   4.660198e+09       1.008518     176.000111       5.191744   \n",
       "std    3.159996e+07       0.092177    1880.319316      55.466646   \n",
       "min    4.611010e+09       1.000000       0.000000       0.000000   \n",
       "25%    4.617032e+09       1.000000      66.000000       1.946903   \n",
       "50%    4.678025e+09       1.000000      89.340000       2.635398   \n",
       "75%    4.684025e+09       1.000000     119.260000       3.517994   \n",
       "max    4.691042e+09       6.000000  226185.570000    6672.140708   \n",
       "\n",
       "          읍면동리 총 인구수  읍면동리 70세이상 인구수  읍면동리 70세이상 인구비율      읍면동 총 인구수  \\\n",
       "count  388837.000000   388837.000000    388837.000000  388837.000000   \n",
       "mean     2898.362520      448.315533        30.119516    7813.648339   \n",
       "std      7766.644224     1089.862453        10.305730   10645.057624   \n",
       "min         3.000000        0.000000         0.000000       4.000000   \n",
       "25%       216.000000       76.000000        24.050046    2300.000000   \n",
       "50%       370.000000      123.000000        31.531532    3382.000000   \n",
       "75%      1017.000000      266.000000        37.267081    8527.000000   \n",
       "max     48540.000000     7389.000000        66.666667   56142.000000   \n",
       "\n",
       "       읍면동 총 70세이상 인구수  읍면동 70세이상 인구비율   읍면동리별 추정 인구수  \n",
       "count    388837.000000   388837.000000  388837.000000  \n",
       "mean       1480.379143       28.299795    3075.540090  \n",
       "std        1261.766378        9.597160    7980.121229  \n",
       "min           0.000000        0.000000       1.368732  \n",
       "25%         775.000000       21.037806     316.084661  \n",
       "50%        1069.000000       30.788006     525.171091  \n",
       "75%        1773.000000       35.543657    1157.435398  \n",
       "max        7389.000000       49.090909   47667.700590  "
      ]
     },
     "execution_count": 23,
     "metadata": {},
     "output_type": "execute_result"
    }
   ],
   "source": [
    "df_final.describe()"
   ]
  },
  {
   "cell_type": "markdown",
   "metadata": {},
   "source": [
    "---"
   ]
  }
 ],
 "metadata": {
  "kernelspec": {
   "display_name": "base",
   "language": "python",
   "name": "python3"
  },
  "language_info": {
   "codemirror_mode": {
    "name": "ipython",
    "version": 3
   },
   "file_extension": ".py",
   "mimetype": "text/x-python",
   "name": "python",
   "nbconvert_exporter": "python",
   "pygments_lexer": "ipython3",
   "version": "3.11.7"
  }
 },
 "nbformat": 4,
 "nbformat_minor": 2
}
