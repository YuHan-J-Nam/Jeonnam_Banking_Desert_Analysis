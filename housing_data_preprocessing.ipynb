{
 "cells": [
  {
   "cell_type": "markdown",
   "metadata": {},
   "source": [
    "# 전라남도 인구데이터 전처리"
   ]
  },
  {
   "cell_type": "markdown",
   "metadata": {},
   "source": [
    "### 사용 라이브러리"
   ]
  },
  {
   "cell_type": "code",
   "execution_count": 23,
   "metadata": {},
   "outputs": [],
   "source": [
    "# 필요한 라이브러리 로드\n",
    "import numpy as np\n",
    "import pandas as pd\n",
    "pd.options.mode.chained_assignment = None\n",
    "from math import sqrt\n",
    "from sklearn.metrics import mean_squared_error, mean_absolute_error, r2_score\n",
    "\n",
    "import matplotlib.pyplot as plt\n",
    "from matplotlib import font_manager, rc\n",
    "import seaborn as sns\n",
    "sns.set_style()"
   ]
  },
  {
   "cell_type": "markdown",
   "metadata": {},
   "source": [
    "## 개별/공동주택 데이터\n",
    "사용된 데이터는 2024년 1월에 조회된 전라남도 내의 개별/공동주택 데이터다.\n",
    "\n",
    "주택 데이터에서 각 지번에 위치한 주택의 총 면적을 추출하고자 한다."
   ]
  },
  {
   "cell_type": "code",
   "execution_count": 24,
   "metadata": {},
   "outputs": [],
   "source": [
    "# 필요한 컬럼만 추출\n",
    "shared_cols = ['고유번호', '법정동코드', '법정동명', '지번', '특수지구분코드', '특수지구분명', '전용면적']\n",
    "private_cols = ['고유번호', '법정동코드', '법정동명', '지번', '특수지구분코드', '특수지구분명', '건물산정연면적']\n",
    "\n",
    "# 전남 주택가격정보 데이터 불러오기\n",
    "raw_jeonnam_shared = pd.read_csv('./data/전남_공동주택가격정보.csv', encoding='cp949', usecols=shared_cols,\n",
    "                                 dtype={'고유번호': object, '법정동코드': np.int64, '전용면적': np.float64})\n",
    "raw_jeonnam_private = pd.read_csv('./data/전남_개별주택가격정보.csv', encoding='cp949', usecols=private_cols, \n",
    "                                  dtype={'고유번호': object, '법정동코드': np.int64, '건물산정연면적': np.float64})"
   ]
  },
  {
   "cell_type": "markdown",
   "metadata": {},
   "source": [
    "### 주택 데이터 전처리 함수"
   ]
  },
  {
   "cell_type": "code",
   "execution_count": 25,
   "metadata": {},
   "outputs": [],
   "source": [
    "def process_housing_data(df):\n",
    "    \"\"\"데이터프레임의 '법정동명'과 '지번' 컬럼을 합쳐 '주소' 컬럼을 만들고, '지번별 연면적'을 계산하는 함수\"\"\"\n",
    "    \n",
    "    # \"지번\" 컬럼에서 -를 기준으로 분리\n",
    "    df['지번본번'] = df['지번'].str.split('-').str[0]\n",
    "    \n",
    "    # 법정동명과 지번을 합친 \"주소\" 컬럼을 만들어 반환\n",
    "    df['주소'] = df['법정동명'] + ' ' + df['지번']\n",
    "    \n",
    "    # 지번별 총 연면적을 계산\n",
    "    try:\n",
    "        df['지번별 연면적'] = df.groupby(['주소'])['전용면적'].transform('sum')\n",
    "        df = df.drop('전용면적', axis=1)\n",
    "    except:\n",
    "        df['지번별 연면적'] = df.groupby(['주소'])['건물산정연면적'].transform('sum')\n",
    "        df = df.drop('건물산정연면적', axis=1)\n",
    "    \n",
    "    # 주소가 중복되는 행을 제거\n",
    "    df = df.drop_duplicates(['주소'])\n",
    "    \n",
    "    # NaN 값이 있는 행을 제거\n",
    "    df = df.dropna()\n",
    "    \n",
    "    return df"
   ]
  },
  {
   "cell_type": "code",
   "execution_count": 26,
   "metadata": {},
   "outputs": [],
   "source": [
    "# 데이터 프레임 정리\n",
    "df_housing_private = process_housing_data(raw_jeonnam_private)\n",
    "df_housing_shared = process_housing_data(raw_jeonnam_shared)"
   ]
  },
  {
   "cell_type": "code",
   "execution_count": 27,
   "metadata": {},
   "outputs": [
    {
     "data": {
      "image/png": "[encoded data removed]",
      "text/plain": [
       "<Figure size 1000x500 with 1 Axes>"
      ]
     },
     "metadata": {},
     "output_type": "display_data"
    }
   ],
   "source": [
    "# 지번본번별 연면적 시각화, 분포 그래프로 확인\n",
    "plt.figure(figsize=(10, 5))\n",
    "plt.rc('font', family='NanumGothic')\n",
    "plt.hist(df_housing_private['지번별 연면적'].apply(lambda x: np.log(x+1)), bins=1000, density=True, alpha=0.5, label='private')\n",
    "plt.hist(df_housing_shared['지번별 연면적'].apply(lambda x: np.log(x+1)), bins=1000, density=True, alpha=0.5, label='shared')\n",
    "plt.grid(True)\n",
    "plt.xlabel('log(지번별 연면적 $(m^2)$)')\n",
    "plt.ylabel('Density')\n",
    "plt.legend()\n",
    "plt.show()"
   ]
  },
  {
   "cell_type": "markdown",
   "metadata": {},
   "source": [
    "---"
   ]
  },
  {
   "cell_type": "code",
   "execution_count": 28,
   "metadata": {},
   "outputs": [],
   "source": [
    "# 전남 개별주택과 공동주택 데이터를 병합\n",
    "df_housing = df_housing_private.merge(df_housing_shared, on=list(df_housing_private.columns[:-1]),\n",
    "                                      how='outer', suffixes=('_private', '_shared'))\n",
    "\n",
    "# 공동주택 데이터가 없는 경우 0으로 채움\n",
    "df_housing.fillna(0, inplace=True)"
   ]
  },
  {
   "cell_type": "code",
   "execution_count": 29,
   "metadata": {},
   "outputs": [],
   "source": [
    "# 총 지번별 연면적 계산\n",
    "df_housing['지번별 연면적'] = df_housing['지번별 연면적_private'] + df_housing['지번별 연면적_shared']\n",
    "df_housing.drop(['지번별 연면적_private', '지번별 연면적_shared'], axis=1, inplace=True)"
   ]
  },
  {
   "cell_type": "code",
   "execution_count": 30,
   "metadata": {},
   "outputs": [
    {
     "data": {
      "text/html": [
       "<div>\n",
       "<style scoped>\n",
       "    .dataframe tbody tr th:only-of-type {\n",
       "        vertical-align: middle;\n",
       "    }\n",
       "\n",
       "    .dataframe tbody tr th {\n",
       "        vertical-align: top;\n",
       "    }\n",
       "\n",
       "    .dataframe thead th {\n",
       "        text-align: right;\n",
       "    }\n",
       "</style>\n",
       "<table border=\"1\" class=\"dataframe\">\n",
       "  <thead>\n",
       "    <tr style=\"text-align: right;\">\n",
       "      <th></th>\n",
       "      <th>고유번호</th>\n",
       "      <th>법정동코드</th>\n",
       "      <th>법정동명</th>\n",
       "      <th>특수지구분코드</th>\n",
       "      <th>특수지구분명</th>\n",
       "      <th>지번</th>\n",
       "      <th>지번본번</th>\n",
       "      <th>주소</th>\n",
       "      <th>지번별 연면적</th>\n",
       "    </tr>\n",
       "  </thead>\n",
       "  <tbody>\n",
       "    <tr>\n",
       "      <th>91464</th>\n",
       "      <td>4617025022101210000</td>\n",
       "      <td>4617025022</td>\n",
       "      <td>전라남도 나주시 남평읍 대교리</td>\n",
       "      <td>1</td>\n",
       "      <td>일반</td>\n",
       "      <td>121</td>\n",
       "      <td>121</td>\n",
       "      <td>전라남도 나주시 남평읍 대교리 121</td>\n",
       "      <td>111.27</td>\n",
       "    </tr>\n",
       "    <tr>\n",
       "      <th>40030</th>\n",
       "      <td>4613014700100640004</td>\n",
       "      <td>4613014700</td>\n",
       "      <td>전라남도 여수시 묘도동</td>\n",
       "      <td>1</td>\n",
       "      <td>일반</td>\n",
       "      <td>64-4</td>\n",
       "      <td>64</td>\n",
       "      <td>전라남도 여수시 묘도동 64-4</td>\n",
       "      <td>55.00</td>\n",
       "    </tr>\n",
       "    <tr>\n",
       "      <th>197606</th>\n",
       "      <td>4678034027105180000</td>\n",
       "      <td>4678034027</td>\n",
       "      <td>전라남도 보성군 율어면 이동리</td>\n",
       "      <td>1</td>\n",
       "      <td>일반</td>\n",
       "      <td>518</td>\n",
       "      <td>518</td>\n",
       "      <td>전라남도 보성군 율어면 이동리 518</td>\n",
       "      <td>57.41</td>\n",
       "    </tr>\n",
       "    <tr>\n",
       "      <th>99448</th>\n",
       "      <td>4617036022101600001</td>\n",
       "      <td>4617036022</td>\n",
       "      <td>전라남도 나주시 다시면 월태리</td>\n",
       "      <td>1</td>\n",
       "      <td>일반</td>\n",
       "      <td>160-1</td>\n",
       "      <td>160</td>\n",
       "      <td>전라남도 나주시 다시면 월태리 160-1</td>\n",
       "      <td>75.80</td>\n",
       "    </tr>\n",
       "    <tr>\n",
       "      <th>103786</th>\n",
       "      <td>4617038030101230001</td>\n",
       "      <td>4617038030</td>\n",
       "      <td>전라남도 나주시 노안면 영평리</td>\n",
       "      <td>1</td>\n",
       "      <td>일반</td>\n",
       "      <td>123-1</td>\n",
       "      <td>123</td>\n",
       "      <td>전라남도 나주시 노안면 영평리 123-1</td>\n",
       "      <td>87.00</td>\n",
       "    </tr>\n",
       "  </tbody>\n",
       "</table>\n",
       "</div>"
      ],
      "text/plain": [
       "                       고유번호       법정동코드              법정동명  특수지구분코드 특수지구분명  \\\n",
       "91464   4617025022101210000  4617025022  전라남도 나주시 남평읍 대교리        1     일반   \n",
       "40030   4613014700100640004  4613014700      전라남도 여수시 묘도동        1     일반   \n",
       "197606  4678034027105180000  4678034027  전라남도 보성군 율어면 이동리        1     일반   \n",
       "99448   4617036022101600001  4617036022  전라남도 나주시 다시면 월태리        1     일반   \n",
       "103786  4617038030101230001  4617038030  전라남도 나주시 노안면 영평리        1     일반   \n",
       "\n",
       "           지번 지번본번                      주소  지번별 연면적  \n",
       "91464     121  121    전라남도 나주시 남평읍 대교리 121   111.27  \n",
       "40030    64-4   64       전라남도 여수시 묘도동 64-4    55.00  \n",
       "197606    518  518    전라남도 보성군 율어면 이동리 518    57.41  \n",
       "99448   160-1  160  전라남도 나주시 다시면 월태리 160-1    75.80  \n",
       "103786  123-1  123  전라남도 나주시 노안면 영평리 123-1    87.00  "
      ]
     },
     "execution_count": 30,
     "metadata": {},
     "output_type": "execute_result"
    }
   ],
   "source": [
    "df_housing.sample(5)"
   ]
  },
  {
   "cell_type": "markdown",
   "metadata": {},
   "source": [
    "## 지번별 거주 인구수 추정\n",
    "한국 전체 기준 1인당 평균 주거 면적이 2020년 기준 33.9 $m^2$ 이다.\n",
    "\n",
    "지번 내의 총 면적을 33.9 $m^2$로 나누어 **지번별 추정 인구수**를 계산해 주도록 하겠다."
   ]
  },
  {
   "cell_type": "code",
   "execution_count": 31,
   "metadata": {},
   "outputs": [
    {
     "data": {
      "text/html": [
       "<div>\n",
       "<style scoped>\n",
       "    .dataframe tbody tr th:only-of-type {\n",
       "        vertical-align: middle;\n",
       "    }\n",
       "\n",
       "    .dataframe tbody tr th {\n",
       "        vertical-align: top;\n",
       "    }\n",
       "\n",
       "    .dataframe thead th {\n",
       "        text-align: right;\n",
       "    }\n",
       "</style>\n",
       "<table border=\"1\" class=\"dataframe\">\n",
       "  <thead>\n",
       "    <tr style=\"text-align: right;\">\n",
       "      <th></th>\n",
       "      <th>지번별 연면적</th>\n",
       "      <th>지번별 추정 인구수</th>\n",
       "    </tr>\n",
       "  </thead>\n",
       "  <tbody>\n",
       "    <tr>\n",
       "      <th>count</th>\n",
       "      <td>388839.000000</td>\n",
       "      <td>388839.000000</td>\n",
       "    </tr>\n",
       "    <tr>\n",
       "      <th>mean</th>\n",
       "      <td>176.000262</td>\n",
       "      <td>5.191748</td>\n",
       "    </tr>\n",
       "    <tr>\n",
       "      <th>std</th>\n",
       "      <td>1880.314485</td>\n",
       "      <td>55.466504</td>\n",
       "    </tr>\n",
       "    <tr>\n",
       "      <th>min</th>\n",
       "      <td>0.000000</td>\n",
       "      <td>0.000000</td>\n",
       "    </tr>\n",
       "    <tr>\n",
       "      <th>25%</th>\n",
       "      <td>66.000000</td>\n",
       "      <td>1.946903</td>\n",
       "    </tr>\n",
       "    <tr>\n",
       "      <th>50%</th>\n",
       "      <td>89.340000</td>\n",
       "      <td>2.635398</td>\n",
       "    </tr>\n",
       "    <tr>\n",
       "      <th>75%</th>\n",
       "      <td>119.260000</td>\n",
       "      <td>3.517994</td>\n",
       "    </tr>\n",
       "    <tr>\n",
       "      <th>max</th>\n",
       "      <td>226185.570000</td>\n",
       "      <td>6672.140708</td>\n",
       "    </tr>\n",
       "  </tbody>\n",
       "</table>\n",
       "</div>"
      ],
      "text/plain": [
       "             지번별 연면적     지번별 추정 인구수\n",
       "count  388839.000000  388839.000000\n",
       "mean      176.000262       5.191748\n",
       "std      1880.314485      55.466504\n",
       "min         0.000000       0.000000\n",
       "25%        66.000000       1.946903\n",
       "50%        89.340000       2.635398\n",
       "75%       119.260000       3.517994\n",
       "max    226185.570000    6672.140708"
      ]
     },
     "execution_count": 31,
     "metadata": {},
     "output_type": "execute_result"
    }
   ],
   "source": [
    "# 지번별 연면적을 1인당 평균 주거면적으로 나눔\n",
    "df_housing['지번별 추정 인구수'] = (df_housing['지번별 연면적'] / 33.9)\n",
    "df_housing[['지번별 연면적','지번별 추정 인구수']].describe()"
   ]
  },
  {
   "cell_type": "code",
   "execution_count": 32,
   "metadata": {},
   "outputs": [
    {
     "data": {
      "image/png": "[encoded data removed]",
      "text/plain": [
       "<Figure size 1000x500 with 1 Axes>"
      ]
     },
     "metadata": {},
     "output_type": "display_data"
    }
   ],
   "source": [
    "# 주소별 추정 인구수 분포를 log를 씌워 시각화\n",
    "plt.figure(figsize=(10, 5))\n",
    "plt.rc('font', family='NanumGothic')\n",
    "sns.histplot(df_housing['지번별 추정 인구수'].apply(lambda x: np.log(x+1)), bins=100, kde=True)\n",
    "plt.grid(True)\n",
    "plt.xlabel('log(지번별 추정 인구수)')\n",
    "plt.show()"
   ]
  },
  {
   "cell_type": "markdown",
   "metadata": {},
   "source": [
    "---"
   ]
  },
  {
   "cell_type": "markdown",
   "metadata": {},
   "source": [
    "## 전라남도 인구 데이터 전처리\n",
    "전라남도의 각 법정동 별 총인구수랑 70세이상 인구 비율을 추출해준다."
   ]
  },
  {
   "cell_type": "code",
   "execution_count": 33,
   "metadata": {},
   "outputs": [
    {
     "data": {
      "text/plain": [
       "Index(['법정동코드', '기준연월', '시도명', '시군구명', '읍면동명', '리명', '계', '남자', '여자', '0세남자',\n",
       "       ...\n",
       "       '101세여자', '102세여자', '103세여자', '104세여자', '105세여자', '106세여자', '107세여자',\n",
       "       '108세여자', '109세여자', '110세이상 여자'],\n",
       "      dtype='object', length=231)"
      ]
     },
     "execution_count": 33,
     "metadata": {},
     "output_type": "execute_result"
    }
   ],
   "source": [
    "# 총 읍면동 별 인구 데이터 불러오기\n",
    "raw_pop = pd.read_csv('./data/전국_202401_70세_이상_인구통계_법정동.csv', encoding='utf-8-sig')\n",
    "raw_pop.columns"
   ]
  },
  {
   "cell_type": "markdown",
   "metadata": {},
   "source": [
    "### 필요한 컬럼/행 추출"
   ]
  },
  {
   "cell_type": "code",
   "execution_count": 34,
   "metadata": {},
   "outputs": [],
   "source": [
    "# 전남 데이터만 추출\n",
    "raw_pop = raw_pop[raw_pop['시도명'].str.contains('전라남도')]\n",
    "\n",
    "# 70세 이상 남, 녀, 총 데이터만 추출\n",
    "raw_pop['70세이상 남자'] = raw_pop.loc[:,'70세남자':'110세이상 남자'].sum(axis=1)\n",
    "raw_pop['70세이상 여자'] = raw_pop.loc[:,'70세여자':'110세이상 여자'].sum(axis=1)\n",
    "raw_pop['70세이상 계'] = raw_pop['70세이상 남자'] + raw_pop['70세이상 여자']\n",
    "\n",
    "# 필요한 열들만 추출\n",
    "interested_columns = ['법정동코드', '시도명', '시군구명', '읍면동명', '리명', '계', '70세이상 계']\n",
    "\n",
    "# 전남 데이터프레임 생성\n",
    "df_pop = raw_pop[interested_columns]"
   ]
  },
  {
   "cell_type": "markdown",
   "metadata": {},
   "source": [
    "### 70세이상 인구비율 계산"
   ]
  },
  {
   "cell_type": "code",
   "execution_count": 35,
   "metadata": {},
   "outputs": [],
   "source": [
    "# 70세 이상 인구 비율 계산\n",
    "df_pop['70세이상 인구비율'] = df_pop['70세이상 계'] / df_pop['계'] * 100"
   ]
  },
  {
   "cell_type": "markdown",
   "metadata": {},
   "source": [
    "지금의 데이터는 읍면동-리 까지 구분이 되어있기 때문에, 동일한 기준 적용을 위해 읍면동까지만 구분된 인구 데이터도 계산해 준다."
   ]
  },
  {
   "cell_type": "code",
   "execution_count": 36,
   "metadata": {},
   "outputs": [],
   "source": [
    "# 읍면동 기준의 총인구 및 70세이상 인구 계산\n",
    "df_pop[['읍면동 총인구', '읍면동 70세이상 인구']] = df_pop.groupby(['시도명', '시군구명', '읍면동명'])[['계', '70세이상 계']].transform('sum')"
   ]
  },
  {
   "cell_type": "code",
   "execution_count": 37,
   "metadata": {},
   "outputs": [
    {
     "data": {
      "text/html": [
       "<div>\n",
       "<style scoped>\n",
       "    .dataframe tbody tr th:only-of-type {\n",
       "        vertical-align: middle;\n",
       "    }\n",
       "\n",
       "    .dataframe tbody tr th {\n",
       "        vertical-align: top;\n",
       "    }\n",
       "\n",
       "    .dataframe thead th {\n",
       "        text-align: right;\n",
       "    }\n",
       "</style>\n",
       "<table border=\"1\" class=\"dataframe\">\n",
       "  <thead>\n",
       "    <tr style=\"text-align: right;\">\n",
       "      <th></th>\n",
       "      <th>법정동코드</th>\n",
       "      <th>시도명</th>\n",
       "      <th>시군구명</th>\n",
       "      <th>읍면동명</th>\n",
       "      <th>리명</th>\n",
       "      <th>읍면동리 총인구</th>\n",
       "      <th>읍면동리 70세이상 인구</th>\n",
       "      <th>읍면동리 70세이상 인구비율</th>\n",
       "      <th>읍면동 총인구</th>\n",
       "      <th>읍면동 70세이상 인구</th>\n",
       "    </tr>\n",
       "  </thead>\n",
       "  <tbody>\n",
       "    <tr>\n",
       "      <th>7569</th>\n",
       "      <td>4611010100</td>\n",
       "      <td>전라남도</td>\n",
       "      <td>목포시</td>\n",
       "      <td>용당동</td>\n",
       "      <td>용당동</td>\n",
       "      <td>12477</td>\n",
       "      <td>3024</td>\n",
       "      <td>24.236595</td>\n",
       "      <td>12477</td>\n",
       "      <td>3024</td>\n",
       "    </tr>\n",
       "    <tr>\n",
       "      <th>7570</th>\n",
       "      <td>4611010200</td>\n",
       "      <td>전라남도</td>\n",
       "      <td>목포시</td>\n",
       "      <td>산정동</td>\n",
       "      <td>산정동</td>\n",
       "      <td>41280</td>\n",
       "      <td>7389</td>\n",
       "      <td>17.899709</td>\n",
       "      <td>41280</td>\n",
       "      <td>7389</td>\n",
       "    </tr>\n",
       "    <tr>\n",
       "      <th>7571</th>\n",
       "      <td>4611010300</td>\n",
       "      <td>전라남도</td>\n",
       "      <td>목포시</td>\n",
       "      <td>연산동</td>\n",
       "      <td>연산동</td>\n",
       "      <td>13039</td>\n",
       "      <td>1129</td>\n",
       "      <td>8.658639</td>\n",
       "      <td>13039</td>\n",
       "      <td>1129</td>\n",
       "    </tr>\n",
       "    <tr>\n",
       "      <th>7572</th>\n",
       "      <td>4611010400</td>\n",
       "      <td>전라남도</td>\n",
       "      <td>목포시</td>\n",
       "      <td>대성동</td>\n",
       "      <td>대성동</td>\n",
       "      <td>3899</td>\n",
       "      <td>525</td>\n",
       "      <td>13.464991</td>\n",
       "      <td>3899</td>\n",
       "      <td>525</td>\n",
       "    </tr>\n",
       "    <tr>\n",
       "      <th>7573</th>\n",
       "      <td>4611010500</td>\n",
       "      <td>전라남도</td>\n",
       "      <td>목포시</td>\n",
       "      <td>양동</td>\n",
       "      <td>양동</td>\n",
       "      <td>1318</td>\n",
       "      <td>365</td>\n",
       "      <td>27.693475</td>\n",
       "      <td>1318</td>\n",
       "      <td>365</td>\n",
       "    </tr>\n",
       "  </tbody>\n",
       "</table>\n",
       "</div>"
      ],
      "text/plain": [
       "           법정동코드   시도명 시군구명 읍면동명   리명  읍면동리 총인구  읍면동리 70세이상 인구  \\\n",
       "7569  4611010100  전라남도  목포시  용당동  용당동     12477           3024   \n",
       "7570  4611010200  전라남도  목포시  산정동  산정동     41280           7389   \n",
       "7571  4611010300  전라남도  목포시  연산동  연산동     13039           1129   \n",
       "7572  4611010400  전라남도  목포시  대성동  대성동      3899            525   \n",
       "7573  4611010500  전라남도  목포시   양동   양동      1318            365   \n",
       "\n",
       "      읍면동리 70세이상 인구비율  읍면동 총인구  읍면동 70세이상 인구  \n",
       "7569        24.236595    12477          3024  \n",
       "7570        17.899709    41280          7389  \n",
       "7571         8.658639    13039          1129  \n",
       "7572        13.464991     3899           525  \n",
       "7573        27.693475     1318           365  "
      ]
     },
     "execution_count": 37,
     "metadata": {},
     "output_type": "execute_result"
    }
   ],
   "source": [
    "# 컬럼명 변환\n",
    "df_pop.columns = ['법정동코드', '시도명', '시군구명', '읍면동명', '리명', \n",
    "                  '읍면동리 총인구', '읍면동리 70세이상 인구', '읍면동리 70세이상 인구비율',\n",
    "                  '읍면동 총인구', '읍면동 70세이상 인구']\n",
    "\n",
    "# 최종 데이터프레임 확인\n",
    "df_pop.head()"
   ]
  },
  {
   "cell_type": "markdown",
   "metadata": {},
   "source": [
    "---"
   ]
  },
  {
   "cell_type": "markdown",
   "metadata": {},
   "source": [
    "## 인구 + 지번별 면적/추정인구 데이터 병합"
   ]
  },
  {
   "cell_type": "code",
   "execution_count": 38,
   "metadata": {},
   "outputs": [
    {
     "data": {
      "text/html": [
       "<div>\n",
       "<style scoped>\n",
       "    .dataframe tbody tr th:only-of-type {\n",
       "        vertical-align: middle;\n",
       "    }\n",
       "\n",
       "    .dataframe tbody tr th {\n",
       "        vertical-align: top;\n",
       "    }\n",
       "\n",
       "    .dataframe thead th {\n",
       "        text-align: right;\n",
       "    }\n",
       "</style>\n",
       "<table border=\"1\" class=\"dataframe\">\n",
       "  <thead>\n",
       "    <tr style=\"text-align: right;\">\n",
       "      <th></th>\n",
       "      <th>고유번호</th>\n",
       "      <th>법정동코드</th>\n",
       "      <th>지번</th>\n",
       "      <th>주소</th>\n",
       "      <th>지번별 연면적</th>\n",
       "      <th>지번별 추정 인구수</th>\n",
       "      <th>시도명</th>\n",
       "      <th>시군구명</th>\n",
       "      <th>읍면동명</th>\n",
       "      <th>리명</th>\n",
       "      <th>읍면동리 총인구</th>\n",
       "      <th>읍면동리 70세이상 인구</th>\n",
       "      <th>읍면동리 70세이상 인구비율</th>\n",
       "      <th>읍면동 총인구</th>\n",
       "      <th>읍면동 70세이상 인구</th>\n",
       "    </tr>\n",
       "  </thead>\n",
       "  <tbody>\n",
       "    <tr>\n",
       "      <th>0</th>\n",
       "      <td>4611010100101710003</td>\n",
       "      <td>4611010100</td>\n",
       "      <td>171-3</td>\n",
       "      <td>전라남도 목포시 용당동 171-3</td>\n",
       "      <td>64.84</td>\n",
       "      <td>1.912684</td>\n",
       "      <td>전라남도</td>\n",
       "      <td>목포시</td>\n",
       "      <td>용당동</td>\n",
       "      <td>용당동</td>\n",
       "      <td>12477.0</td>\n",
       "      <td>3024.0</td>\n",
       "      <td>24.236595</td>\n",
       "      <td>12477.0</td>\n",
       "      <td>3024.0</td>\n",
       "    </tr>\n",
       "    <tr>\n",
       "      <th>1</th>\n",
       "      <td>4611010100101710038</td>\n",
       "      <td>4611010100</td>\n",
       "      <td>171-38</td>\n",
       "      <td>전라남도 목포시 용당동 171-38</td>\n",
       "      <td>85.19</td>\n",
       "      <td>2.512979</td>\n",
       "      <td>전라남도</td>\n",
       "      <td>목포시</td>\n",
       "      <td>용당동</td>\n",
       "      <td>용당동</td>\n",
       "      <td>12477.0</td>\n",
       "      <td>3024.0</td>\n",
       "      <td>24.236595</td>\n",
       "      <td>12477.0</td>\n",
       "      <td>3024.0</td>\n",
       "    </tr>\n",
       "    <tr>\n",
       "      <th>2</th>\n",
       "      <td>4611010100101710039</td>\n",
       "      <td>4611010100</td>\n",
       "      <td>171-39</td>\n",
       "      <td>전라남도 목포시 용당동 171-39</td>\n",
       "      <td>119.93</td>\n",
       "      <td>3.537758</td>\n",
       "      <td>전라남도</td>\n",
       "      <td>목포시</td>\n",
       "      <td>용당동</td>\n",
       "      <td>용당동</td>\n",
       "      <td>12477.0</td>\n",
       "      <td>3024.0</td>\n",
       "      <td>24.236595</td>\n",
       "      <td>12477.0</td>\n",
       "      <td>3024.0</td>\n",
       "    </tr>\n",
       "    <tr>\n",
       "      <th>3</th>\n",
       "      <td>4611010100101710040</td>\n",
       "      <td>4611010100</td>\n",
       "      <td>171-40</td>\n",
       "      <td>전라남도 목포시 용당동 171-40</td>\n",
       "      <td>84.69</td>\n",
       "      <td>2.498230</td>\n",
       "      <td>전라남도</td>\n",
       "      <td>목포시</td>\n",
       "      <td>용당동</td>\n",
       "      <td>용당동</td>\n",
       "      <td>12477.0</td>\n",
       "      <td>3024.0</td>\n",
       "      <td>24.236595</td>\n",
       "      <td>12477.0</td>\n",
       "      <td>3024.0</td>\n",
       "    </tr>\n",
       "    <tr>\n",
       "      <th>4</th>\n",
       "      <td>4611010100101710041</td>\n",
       "      <td>4611010100</td>\n",
       "      <td>171-41</td>\n",
       "      <td>전라남도 목포시 용당동 171-41</td>\n",
       "      <td>81.96</td>\n",
       "      <td>2.417699</td>\n",
       "      <td>전라남도</td>\n",
       "      <td>목포시</td>\n",
       "      <td>용당동</td>\n",
       "      <td>용당동</td>\n",
       "      <td>12477.0</td>\n",
       "      <td>3024.0</td>\n",
       "      <td>24.236595</td>\n",
       "      <td>12477.0</td>\n",
       "      <td>3024.0</td>\n",
       "    </tr>\n",
       "  </tbody>\n",
       "</table>\n",
       "</div>"
      ],
      "text/plain": [
       "                  고유번호       법정동코드      지번                   주소  지번별 연면적  \\\n",
       "0  4611010100101710003  4611010100   171-3   전라남도 목포시 용당동 171-3    64.84   \n",
       "1  4611010100101710038  4611010100  171-38  전라남도 목포시 용당동 171-38    85.19   \n",
       "2  4611010100101710039  4611010100  171-39  전라남도 목포시 용당동 171-39   119.93   \n",
       "3  4611010100101710040  4611010100  171-40  전라남도 목포시 용당동 171-40    84.69   \n",
       "4  4611010100101710041  4611010100  171-41  전라남도 목포시 용당동 171-41    81.96   \n",
       "\n",
       "   지번별 추정 인구수   시도명 시군구명 읍면동명   리명  읍면동리 총인구  읍면동리 70세이상 인구  읍면동리 70세이상 인구비율  \\\n",
       "0    1.912684  전라남도  목포시  용당동  용당동   12477.0         3024.0        24.236595   \n",
       "1    2.512979  전라남도  목포시  용당동  용당동   12477.0         3024.0        24.236595   \n",
       "2    3.537758  전라남도  목포시  용당동  용당동   12477.0         3024.0        24.236595   \n",
       "3    2.498230  전라남도  목포시  용당동  용당동   12477.0         3024.0        24.236595   \n",
       "4    2.417699  전라남도  목포시  용당동  용당동   12477.0         3024.0        24.236595   \n",
       "\n",
       "   읍면동 총인구  읍면동 70세이상 인구  \n",
       "0  12477.0        3024.0  \n",
       "1  12477.0        3024.0  \n",
       "2  12477.0        3024.0  \n",
       "3  12477.0        3024.0  \n",
       "4  12477.0        3024.0  "
      ]
     },
     "execution_count": 38,
     "metadata": {},
     "output_type": "execute_result"
    }
   ],
   "source": [
    "# 법정동코드를 기준으로 데이터를 병합\n",
    "df_merged = pd.merge(df_housing.drop(['법정동명', '지번본번', '특수지구분코드', '특수지구분명'], axis=1),\n",
    "                    df_pop, on='법정동코드', how='left')\n",
    "df_merged.head()"
   ]
  },
  {
   "cell_type": "code",
   "execution_count": 39,
   "metadata": {},
   "outputs": [
    {
     "data": {
      "text/html": [
       "<div>\n",
       "<style scoped>\n",
       "    .dataframe tbody tr th:only-of-type {\n",
       "        vertical-align: middle;\n",
       "    }\n",
       "\n",
       "    .dataframe tbody tr th {\n",
       "        vertical-align: top;\n",
       "    }\n",
       "\n",
       "    .dataframe thead th {\n",
       "        text-align: right;\n",
       "    }\n",
       "</style>\n",
       "<table border=\"1\" class=\"dataframe\">\n",
       "  <thead>\n",
       "    <tr style=\"text-align: right;\">\n",
       "      <th></th>\n",
       "      <th>고유번호</th>\n",
       "      <th>법정동코드</th>\n",
       "      <th>지번</th>\n",
       "      <th>주소</th>\n",
       "      <th>지번별 연면적</th>\n",
       "      <th>지번별 추정 인구수</th>\n",
       "      <th>시도명</th>\n",
       "      <th>시군구명</th>\n",
       "      <th>읍면동명</th>\n",
       "      <th>리명</th>\n",
       "      <th>읍면동리 총인구</th>\n",
       "      <th>읍면동리 70세이상 인구</th>\n",
       "      <th>읍면동리 70세이상 인구비율</th>\n",
       "      <th>읍면동 총인구</th>\n",
       "      <th>읍면동 70세이상 인구</th>\n",
       "    </tr>\n",
       "  </thead>\n",
       "  <tbody>\n",
       "    <tr>\n",
       "      <th>329331</th>\n",
       "      <td>4688025036107220000</td>\n",
       "      <td>4688025036</td>\n",
       "      <td>722</td>\n",
       "      <td>전라남도 장성군 장성읍 용곡리 722</td>\n",
       "      <td>156.80</td>\n",
       "      <td>4.625369</td>\n",
       "      <td>NaN</td>\n",
       "      <td>NaN</td>\n",
       "      <td>NaN</td>\n",
       "      <td>NaN</td>\n",
       "      <td>NaN</td>\n",
       "      <td>NaN</td>\n",
       "      <td>NaN</td>\n",
       "      <td>NaN</td>\n",
       "      <td>NaN</td>\n",
       "    </tr>\n",
       "    <tr>\n",
       "      <th>336519</th>\n",
       "      <td>4688036032100670001</td>\n",
       "      <td>4688036032</td>\n",
       "      <td>67-1</td>\n",
       "      <td>전라남도 장성군 황룡면 관동리 67-1</td>\n",
       "      <td>254.08</td>\n",
       "      <td>7.494985</td>\n",
       "      <td>NaN</td>\n",
       "      <td>NaN</td>\n",
       "      <td>NaN</td>\n",
       "      <td>NaN</td>\n",
       "      <td>NaN</td>\n",
       "      <td>NaN</td>\n",
       "      <td>NaN</td>\n",
       "      <td>NaN</td>\n",
       "      <td>NaN</td>\n",
       "    </tr>\n",
       "  </tbody>\n",
       "</table>\n",
       "</div>"
      ],
      "text/plain": [
       "                       고유번호       법정동코드    지번                     주소  지번별 연면적  \\\n",
       "329331  4688025036107220000  4688025036   722   전라남도 장성군 장성읍 용곡리 722   156.80   \n",
       "336519  4688036032100670001  4688036032  67-1  전라남도 장성군 황룡면 관동리 67-1   254.08   \n",
       "\n",
       "        지번별 추정 인구수  시도명 시군구명 읍면동명   리명  읍면동리 총인구  읍면동리 70세이상 인구  \\\n",
       "329331    4.625369  NaN  NaN  NaN  NaN       NaN            NaN   \n",
       "336519    7.494985  NaN  NaN  NaN  NaN       NaN            NaN   \n",
       "\n",
       "        읍면동리 70세이상 인구비율  읍면동 총인구  읍면동 70세이상 인구  \n",
       "329331              NaN      NaN           NaN  \n",
       "336519              NaN      NaN           NaN  "
      ]
     },
     "execution_count": 39,
     "metadata": {},
     "output_type": "execute_result"
    }
   ],
   "source": [
    "# 결측치가 포함된 행 확인\n",
    "df_merged[df_merged.isnull().any(axis=1)]"
   ]
  },
  {
   "cell_type": "markdown",
   "metadata": {},
   "source": [
    "결측치 존재 여부를 확인해 봤더니 두개의 열에 대한 법정동별 인구 데이터가 없었다.\\\n",
    "지도상으로 확인했을 때 농경지 옆에 있는 곳들이라 인구가 없을 수도 있다고 생각, 제외하기로 결정함."
   ]
  },
  {
   "cell_type": "code",
   "execution_count": 40,
   "metadata": {},
   "outputs": [],
   "source": [
    "# 결측치 열 제거\n",
    "df_merged.dropna(inplace=True)"
   ]
  },
  {
   "cell_type": "markdown",
   "metadata": {},
   "source": [
    "면적을 사용해 예측한 인구수와 실제 인구 데이터를 비교해 보겠다."
   ]
  },
  {
   "cell_type": "code",
   "execution_count": 41,
   "metadata": {},
   "outputs": [],
   "source": [
    "# 읍면동리 단위로 추정 인구수 합산\n",
    "df_merged['읍면동리 추정 인구수'] = df_merged.groupby(['법정동코드'])['지번별 추정 인구수'].transform('sum')"
   ]
  },
  {
   "cell_type": "code",
   "execution_count": 42,
   "metadata": {},
   "outputs": [
    {
     "name": "stdout",
     "output_type": "stream",
     "text": [
      "MAE: 299.46\n",
      "MSE: 400071.14\n",
      "RMSE: 632.51\n",
      "R2: 0.99\n"
     ]
    }
   ],
   "source": [
    "# 읍면동리 추정 인구수와 실제 인구수 비교 (MAE, MSE, RMSE, R2)\n",
    "mae = mean_absolute_error(df_merged['읍면동리 총인구'], df_merged['읍면동리 추정 인구수'])\n",
    "mse = mean_squared_error(df_merged['읍면동리 총인구'], df_merged['읍면동리 추정 인구수'])\n",
    "rmse = sqrt(mse)\n",
    "r2 = r2_score(df_merged['읍면동리 총인구'], df_merged['읍면동리 추정 인구수'])\n",
    "\n",
    "# 결과 출력\n",
    "print(f'MAE: {mae:.2f}')\n",
    "print(f'MSE: {mse:.2f}')\n",
    "print(f'RMSE: {rmse:.2f}')\n",
    "print(f'R2: {r2:.2f}')"
   ]
  },
  {
   "cell_type": "code",
   "execution_count": 43,
   "metadata": {},
   "outputs": [
    {
     "data": {
      "image/png": "[encoded data removed]",
      "text/plain": [
       "<Figure size 600x600 with 1 Axes>"
      ]
     },
     "metadata": {},
     "output_type": "display_data"
    }
   ],
   "source": [
    "# 실제 인구수와 추정 인구수 비교 그래프\n",
    "plt.figure(figsize=(6, 6))\n",
    "plt.rc('font', family='NanumGothic')\n",
    "plt.scatter(df_merged['읍면동리 추정 인구수'], df_merged['읍면동리 총인구'])\n",
    "\n",
    "# y=x 선 그리기\n",
    "plt.plot([0, 50000], [0, 50000], 'r')\n",
    "\n",
    "plt.grid(True)\n",
    "plt.title('읍면동 별 실제 인구수 VS 추정 인구수')\n",
    "plt.xlabel('면적 기반 추정 인구수')\n",
    "plt.ylabel('실제 인구수')\n",
    "plt.show()"
   ]
  },
  {
   "cell_type": "markdown",
   "metadata": {},
   "source": [
    "주택 면적으로 통해 예측한 추정 인구수가 실제 각 법정동의 총 인구수와 비슷하게 나타나는 것을 확인할 수 있다.\n",
    "\n",
    "이는 읍면동 단위에선 주택 면적을 인구 분포의 지표로 쓸 수 있다는 것을 의미한다."
   ]
  },
  {
   "cell_type": "code",
   "execution_count": 45,
   "metadata": {},
   "outputs": [],
   "source": [
    "# 탐색 완료한 데이터 저장\n",
    "df_merged.to_parquet('./data/jeonnam_pop.parquet')"
   ]
  },
  {
   "cell_type": "markdown",
   "metadata": {},
   "source": [
    "---\n",
    "---"
   ]
  }
 ],
 "metadata": {
  "kernelspec": {
   "display_name": "base",
   "language": "python",
   "name": "python3"
  },
  "language_info": {
   "codemirror_mode": {
    "name": "ipython",
    "version": 3
   },
   "file_extension": ".py",
   "mimetype": "text/x-python",
   "name": "python",
   "nbconvert_exporter": "python",
   "pygments_lexer": "ipython3",
   "version": "3.11.7"
  }
 },
 "nbformat": 4,
 "nbformat_minor": 2
}
