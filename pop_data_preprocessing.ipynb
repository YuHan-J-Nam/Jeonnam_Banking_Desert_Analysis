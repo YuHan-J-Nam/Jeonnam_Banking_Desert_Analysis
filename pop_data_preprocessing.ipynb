{
 "cells": [
  {
   "cell_type": "markdown",
   "metadata": {},
   "source": [
    "## 전라남도 인구 데이터 전처리\n",
    "전라남도의 각 법정동 별 총인구수랑 70세이상 인구 비율을 추출해주겠습니다."
   ]
  },
  {
   "cell_type": "markdown",
   "metadata": {},
   "source": [
    "### 0. 라이브러리 및 데이터 불러오기"
   ]
  },
  {
   "cell_type": "code",
   "execution_count": 3,
   "metadata": {},
   "outputs": [],
   "source": [
    "# 필요한 라이브러리 로드\n",
    "import pandas as pd\n",
    "pd.options.mode.chained_assignment = None"
   ]
  },
  {
   "cell_type": "code",
   "execution_count": 4,
   "metadata": {},
   "outputs": [
    {
     "data": {
      "text/plain": [
       "Index(['법정동코드', '기준연월', '시도명', '시군구명', '읍면동명', '리명', '계', '남자', '여자', '0세남자',\n",
       "       ...\n",
       "       '101세여자', '102세여자', '103세여자', '104세여자', '105세여자', '106세여자', '107세여자',\n",
       "       '108세여자', '109세여자', '110세이상 여자'],\n",
       "      dtype='object', length=231)"
      ]
     },
     "execution_count": 4,
     "metadata": {},
     "output_type": "execute_result"
    }
   ],
   "source": [
    "# 총 읍면동 별 인구 데이터 불러오기\n",
    "raw = pd.read_csv('./data/전국_202401_70세_이상_인구통계_법정동.csv', encoding='utf-8-sig')\n",
    "raw.columns"
   ]
  },
  {
   "cell_type": "markdown",
   "metadata": {},
   "source": [
    "### 1. 필요한 컬럼/행 추출"
   ]
  },
  {
   "cell_type": "code",
   "execution_count": 5,
   "metadata": {},
   "outputs": [],
   "source": [
    "# 전남 데이터만 추출\n",
    "raw_jeonnam = raw[raw['시도명'].str.contains('전라남도')]\n",
    "\n",
    "# 70세 이상 남, 녀, 총 데이터만 추출\n",
    "raw_jeonnam['70세이상 남자'] = raw_jeonnam.loc[:,'70세남자':'110세이상 남자'].sum(axis=1)\n",
    "raw_jeonnam['70세이상 여자'] = raw_jeonnam.loc[:,'70세여자':'110세이상 여자'].sum(axis=1)\n",
    "raw_jeonnam['70세이상 계'] = raw_jeonnam['70세이상 남자'] + raw_jeonnam['70세이상 여자']\n",
    "\n",
    "# 필요한 열들만 추출\n",
    "interested_columns = ['법정동코드', '시도명', '시군구명', '읍면동명', '리명', '계', '70세이상 계']\n",
    "\n",
    "# 전남 데이터프레임 생성\n",
    "df_jeonnam = raw_jeonnam[interested_columns]"
   ]
  },
  {
   "cell_type": "markdown",
   "metadata": {},
   "source": [
    "### 2. 70세이상 인구비율 계산"
   ]
  },
  {
   "cell_type": "code",
   "execution_count": 6,
   "metadata": {},
   "outputs": [],
   "source": [
    "# 70세 이상 인구 비율 계산\n",
    "df_jeonnam['70세이상 인구비율'] = df_jeonnam['70세이상 계'] / df_jeonnam['계'] * 100"
   ]
  },
  {
   "cell_type": "code",
   "execution_count": 7,
   "metadata": {},
   "outputs": [
    {
     "data": {
      "text/html": [
       "<div>\n",
       "<style scoped>\n",
       "    .dataframe tbody tr th:only-of-type {\n",
       "        vertical-align: middle;\n",
       "    }\n",
       "\n",
       "    .dataframe tbody tr th {\n",
       "        vertical-align: top;\n",
       "    }\n",
       "\n",
       "    .dataframe thead th {\n",
       "        text-align: right;\n",
       "    }\n",
       "</style>\n",
       "<table border=\"1\" class=\"dataframe\">\n",
       "  <thead>\n",
       "    <tr style=\"text-align: right;\">\n",
       "      <th></th>\n",
       "      <th>법정동코드</th>\n",
       "      <th>시도명</th>\n",
       "      <th>시군구명</th>\n",
       "      <th>읍면동명</th>\n",
       "      <th>리명</th>\n",
       "      <th>계</th>\n",
       "      <th>70세이상 계</th>\n",
       "      <th>70세이상 인구비율</th>\n",
       "    </tr>\n",
       "  </thead>\n",
       "  <tbody>\n",
       "    <tr>\n",
       "      <th>7569</th>\n",
       "      <td>4611010100</td>\n",
       "      <td>전라남도</td>\n",
       "      <td>목포시</td>\n",
       "      <td>용당동</td>\n",
       "      <td>용당동</td>\n",
       "      <td>12477</td>\n",
       "      <td>3024</td>\n",
       "      <td>24.236595</td>\n",
       "    </tr>\n",
       "    <tr>\n",
       "      <th>7570</th>\n",
       "      <td>4611010200</td>\n",
       "      <td>전라남도</td>\n",
       "      <td>목포시</td>\n",
       "      <td>산정동</td>\n",
       "      <td>산정동</td>\n",
       "      <td>41280</td>\n",
       "      <td>7389</td>\n",
       "      <td>17.899709</td>\n",
       "    </tr>\n",
       "    <tr>\n",
       "      <th>7571</th>\n",
       "      <td>4611010300</td>\n",
       "      <td>전라남도</td>\n",
       "      <td>목포시</td>\n",
       "      <td>연산동</td>\n",
       "      <td>연산동</td>\n",
       "      <td>13039</td>\n",
       "      <td>1129</td>\n",
       "      <td>8.658639</td>\n",
       "    </tr>\n",
       "    <tr>\n",
       "      <th>7572</th>\n",
       "      <td>4611010400</td>\n",
       "      <td>전라남도</td>\n",
       "      <td>목포시</td>\n",
       "      <td>대성동</td>\n",
       "      <td>대성동</td>\n",
       "      <td>3899</td>\n",
       "      <td>525</td>\n",
       "      <td>13.464991</td>\n",
       "    </tr>\n",
       "    <tr>\n",
       "      <th>7573</th>\n",
       "      <td>4611010500</td>\n",
       "      <td>전라남도</td>\n",
       "      <td>목포시</td>\n",
       "      <td>양동</td>\n",
       "      <td>양동</td>\n",
       "      <td>1318</td>\n",
       "      <td>365</td>\n",
       "      <td>27.693475</td>\n",
       "    </tr>\n",
       "  </tbody>\n",
       "</table>\n",
       "</div>"
      ],
      "text/plain": [
       "           법정동코드   시도명 시군구명 읍면동명   리명      계  70세이상 계  70세이상 인구비율\n",
       "7569  4611010100  전라남도  목포시  용당동  용당동  12477     3024   24.236595\n",
       "7570  4611010200  전라남도  목포시  산정동  산정동  41280     7389   17.899709\n",
       "7571  4611010300  전라남도  목포시  연산동  연산동  13039     1129    8.658639\n",
       "7572  4611010400  전라남도  목포시  대성동  대성동   3899      525   13.464991\n",
       "7573  4611010500  전라남도  목포시   양동   양동   1318      365   27.693475"
      ]
     },
     "execution_count": 7,
     "metadata": {},
     "output_type": "execute_result"
    }
   ],
   "source": [
    "# 컬럼명 변환\n",
    "df_jeonnam.columns(['법정동코드', '시도명', '시군구명', '읍면동명', '리명', '읍면동리 총인구', '읍면동리 70세이상 인구', ' 읍면동리 70세이상 인구비율'])\n",
    "\n",
    "# 최종 데이터프레임 확인\n",
    "df_jeonnam.head()"
   ]
  },
  {
   "cell_type": "code",
   "execution_count": 8,
   "metadata": {},
   "outputs": [],
   "source": [
    "# 전남 인구 데이터 저장\n",
    "df_jeonnam.to_csv('./data/jeonnam_pop.csv', index=False, encoding='cp949')"
   ]
  },
  {
   "cell_type": "markdown",
   "metadata": {},
   "source": [
    "---\n",
    "---"
   ]
  }
 ],
 "metadata": {
  "kernelspec": {
   "display_name": "base",
   "language": "python",
   "name": "python3"
  },
  "language_info": {
   "codemirror_mode": {
    "name": "ipython",
    "version": 3
   },
   "file_extension": ".py",
   "mimetype": "text/x-python",
   "name": "python",
   "nbconvert_exporter": "python",
   "pygments_lexer": "ipython3",
   "version": "3.11.7"
  }
 },
 "nbformat": 4,
 "nbformat_minor": 2
}
